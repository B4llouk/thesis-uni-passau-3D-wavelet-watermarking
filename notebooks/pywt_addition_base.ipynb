{
 "cells": [
  {
   "cell_type": "code",
   "execution_count": 1,
   "metadata": {
    "colab": {
     "base_uri": "https://localhost:8080/"
    },
    "id": "bcRlihWKVTEU",
    "outputId": "ff9f0e1a-e1cc-43c6-f85c-e61574d3ecfa",
    "scrolled": false
   },
   "outputs": [
    {
     "data": {
      "text/plain": [
       "(207, 232, 232)"
      ]
     },
     "execution_count": 1,
     "metadata": {},
     "output_type": "execute_result"
    }
   ],
   "source": [
    "import numpy as np\n",
    "#load .npy file\n",
    "#need to change this to relative\n",
    "data = np.load('C:/Users/moham/OneDrive/Desktop/thesis/data/npy/smallPiston.npy')\n",
    "\n",
    "data.shape"
   ]
  },
  {
   "cell_type": "code",
   "execution_count": 2,
   "metadata": {},
   "outputs": [],
   "source": [
    "import helpers.qr \n",
    "import helpers.wavelet\n",
    "import helpers.wm\n",
    "import helpers.plots"
   ]
  },
  {
   "cell_type": "code",
   "execution_count": 3,
   "metadata": {},
   "outputs": [
    {
     "name": "stdout",
     "output_type": "stream",
     "text": [
      "[[255 255 255 ... 255 255 255]\n",
      " [255 255 255 ... 255 255 255]\n",
      " [255 255 255 ... 255 255 255]\n",
      " ...\n",
      " [255 255 255 ... 255 255 255]\n",
      " [255 255 255 ... 255 255 255]\n",
      " [255 255 255 ... 255 255 255]]\n"
     ]
    },
    {
     "data": {
      "text/plain": [
       "array([[255, 255, 255, ..., 255, 255, 255],\n",
       "       [255, 255, 255, ..., 255, 255, 255],\n",
       "       [255, 255, 255, ..., 255, 255, 255],\n",
       "       ...,\n",
       "       [255, 255, 255, ..., 255, 255, 255],\n",
       "       [255, 255, 255, ..., 255, 255, 255],\n",
       "       [255, 255, 255, ..., 255, 255, 255]], dtype=uint8)"
      ]
     },
     "execution_count": 3,
     "metadata": {},
     "output_type": "execute_result"
    }
   ],
   "source": [
    "# Maybe the watermark can be a string coded into a numpy, got to look how to do that\n",
    "# scaled watermark for real work \n",
    "#watermark2 = np.random.rand(104,116,116)\n",
    "# high values to experiment distortions: \n",
    "#watermark= helpers.wm.randomWatermark()\n",
    "watermark= helpers.qr.qrToArray('C:/Users/moham/OneDrive/Desktop/thesis/data/qr/qr_code.png')\n",
    "\n",
    "watermark"
   ]
  },
  {
   "cell_type": "markdown",
   "metadata": {},
   "source": [
    "## alpha = 0.01, wavelet= haar"
   ]
  },
  {
   "cell_type": "code",
   "execution_count": 4,
   "metadata": {
    "id": "YCJMdUeCUlVk"
   },
   "outputs": [],
   "source": [
    "# Wavelet to be used\n",
    "wavelet = 'haar'\n",
    "# Embed the watermark into the original data with a small alpha value\n",
    "alpha_value = 0.01\n",
    "watermarked_coeffs = helpers.wavelet.embedWatermarkAddition(data, watermark, wavelet, alpha_value)\n",
    "\n",
    "# Reconstruct the watermarked volume using IDWT\n",
    "watermarked_data_reconstructed = helpers.wavelet.reconstructWmVolume(watermarked_coeffs, wavelet)"
   ]
  },
  {
   "cell_type": "code",
   "execution_count": 5,
   "metadata": {},
   "outputs": [
    {
     "name": "stderr",
     "output_type": "stream",
     "text": [
      "C:\\Users\\moham\\anaconda3\\envs\\thesis\\Lib\\site-packages\\ipyvolume\\serialize.py:102: RuntimeWarning: invalid value encountered in cast\n",
      "  subdata[..., i] = ((gradient[i][zindex] / 2.0 + 0.5) * 255).astype(np.uint8)\n"
     ]
    },
    {
     "data": {
      "application/vnd.jupyter.widget-view+json": {
       "model_id": "28cb166e896149cd923422e32ce4fde9",
       "version_major": 2,
       "version_minor": 0
      },
      "text/plain": [
       "Container(children=[VBox(children=(HBox(children=(Label(value='levels:'), FloatSlider(value=0.2, max=1.0, step…"
      ]
     },
     "metadata": {},
     "output_type": "display_data"
    },
    {
     "data": {
      "text/plain": [
       "0"
      ]
     },
     "execution_count": 5,
     "metadata": {},
     "output_type": "execute_result"
    }
   ],
   "source": [
    "helpers.plots.ivyplot(watermarked_data_reconstructed)"
   ]
  },
  {
   "cell_type": "code",
   "execution_count": 6,
   "metadata": {},
   "outputs": [
    {
     "data": {
      "application/vnd.jupyter.widget-view+json": {
       "model_id": "aedb041d3081463a970b6b7636d383f6",
       "version_major": 2,
       "version_minor": 0
      },
      "text/plain": [
       "Container(children=[VBox(children=(HBox(children=(Label(value='levels:'), FloatSlider(value=0.2, max=1.0, step…"
      ]
     },
     "metadata": {},
     "output_type": "display_data"
    },
    {
     "data": {
      "text/plain": [
       "0"
      ]
     },
     "execution_count": 6,
     "metadata": {},
     "output_type": "execute_result"
    }
   ],
   "source": [
    "helpers.plots.ivyplot(data)"
   ]
  },
  {
   "cell_type": "code",
   "execution_count": null,
   "metadata": {},
   "outputs": [],
   "source": []
  },
  {
   "cell_type": "code",
   "execution_count": null,
   "metadata": {},
   "outputs": [],
   "source": []
  },
  {
   "cell_type": "code",
   "execution_count": 1,
   "metadata": {},
   "outputs": [
    {
     "ename": "NameError",
     "evalue": "name 'helpers' is not defined",
     "output_type": "error",
     "traceback": [
      "\u001b[1;31m---------------------------------------------------------------------------\u001b[0m",
      "\u001b[1;31mNameError\u001b[0m                                 Traceback (most recent call last)",
      "Cell \u001b[1;32mIn[1], line 1\u001b[0m\n\u001b[1;32m----> 1\u001b[0m retrieved_watermark \u001b[38;5;241m=\u001b[39m helpers\u001b[38;5;241m.\u001b[39mwm\u001b[38;5;241m.\u001b[39mretrieveWm(data, watermarked_coeffs, wavelet, alpha_value)\n",
      "\u001b[1;31mNameError\u001b[0m: name 'helpers' is not defined"
     ]
    }
   ],
   "source": [
    "retrieved_watermark = helpers.wm.retrieveWm(data, watermarked_coeffs, wavelet, alpha_value)\n"
   ]
  },
  {
   "cell_type": "code",
   "execution_count": 31,
   "metadata": {},
   "outputs": [
    {
     "data": {
      "image/png": "[encoded data removed]",
      "text/plain": [
       "<Figure size 640x480 with 1 Axes>"
      ]
     },
     "metadata": {},
     "output_type": "display_data"
    },
    {
     "data": {
      "text/plain": [
       "0"
      ]
     },
     "execution_count": 31,
     "metadata": {},
     "output_type": "execute_result"
    }
   ],
   "source": [
    "helpers.plots.npyplot(retrieved_watermark[0])"
   ]
  },
  {
   "cell_type": "code",
   "execution_count": 9,
   "metadata": {},
   "outputs": [
    {
     "data": {
      "text/plain": [
       "array([[255., 255., 255., ..., 255., 255., 255.],\n",
       "       [255., 255., 255., ..., 255., 255., 255.],\n",
       "       [255., 255., 255., ..., 255., 255., 255.],\n",
       "       ...,\n",
       "       [255., 255., 255., ..., 255., 255., 255.],\n",
       "       [255., 255., 255., ..., 255., 255., 255.],\n",
       "       [255., 255., 255., ..., 255., 255., 255.]])"
      ]
     },
     "execution_count": 9,
     "metadata": {},
     "output_type": "execute_result"
    }
   ],
   "source": [
    "retrieved_watermark[0]"
   ]
  },
  {
   "cell_type": "code",
   "execution_count": 9,
   "metadata": {},
   "outputs": [
    {
     "data": {
      "image/png": "[encoded data removed]",
      "text/plain": [
       "<Figure size 640x480 with 1 Axes>"
      ]
     },
     "metadata": {},
     "output_type": "display_data"
    }
   ],
   "source": [
    "annotations={'data1': \"original watermark\",\n",
    "             'data2': \"retrieved watermark\",\n",
    "             'title': \"Original vs retrieved watermark\"}\n",
    "helpers.plots.histogram(watermark, retrieved_watermark, annotations)"
   ]
  },
  {
   "cell_type": "code",
   "execution_count": null,
   "metadata": {
    "colab": {
     "base_uri": "https://localhost:8080/"
    },
    "id": "Ys30IfE_U09t",
    "outputId": "ac9a275d-7855-435a-cebf-71c77d494095"
   },
   "outputs": [],
   "source": []
  },
  {
   "cell_type": "code",
   "execution_count": 6,
   "metadata": {
    "colab": {
     "background_save": true,
     "base_uri": "https://localhost:8080/",
     "height": 17,
     "referenced_widgets": [
      "52211da79c5744eaa89eb3cd5e4b18c7",
      "8ddbdf4556374ffea573f1dacf7b97c3",
      "76a3f3d61bc14c89a59dbb6e71b5b898"
     ]
    },
    "id": "kbOuBp5g9W0Q",
    "outputId": "eb985e02-4b88-4b0b-d8d3-28f21906a023"
   },
   "outputs": [
    {
     "data": {
      "application/vnd.jupyter.widget-view+json": {
       "model_id": "07413b134a7c4dd38957116caa11cad5",
       "version_major": 2,
       "version_minor": 0
      },
      "text/plain": [
       "Container(children=[VBox(children=(HBox(children=(Label(value='levels:'), FloatSlider(value=0.2, max=1.0, step…"
      ]
     },
     "metadata": {},
     "output_type": "display_data"
    }
   ],
   "source": [
    "import numpy as np\n",
    "import ipyvolume as ipv\n",
    "\n",
    "toplot= data\n",
    "\n",
    "toplot = toplot- np.min(toplot)\n",
    "toplot = toplot/ np.max(toplot)\n",
    "\n",
    "#dataRoi\n",
    "\n",
    "# visualize\n",
    "ipv.figure()\n",
    "ipv.quickvolshow(toplot, level=[0.2, 0.8], opacity=0.1, level_width= 0.1, data_min=0, data_max=1)\n",
    "ipv.view(-30, 40)\n",
    "ipv.show()"
   ]
  },
  {
   "cell_type": "code",
   "execution_count": 5,
   "metadata": {
    "colab": {
     "background_save": true,
     "base_uri": "https://localhost:8080/",
     "height": 542,
     "referenced_widgets": [
      "8cfe8bfc8f544637a0451e0a871a623e",
      "ca420ae17ad246ad9f5f87cfbd5ed091",
      "7968349dd88141ca96e59534ca8776b5"
     ]
    },
    "id": "zCW6Rbdk96n7",
    "outputId": "012fb67f-f329-4dd4-93e2-7ef680aa250e"
   },
   "outputs": [
    {
     "name": "stderr",
     "output_type": "stream",
     "text": [
      "C:\\Users\\moham\\anaconda3\\envs\\thesis\\Lib\\site-packages\\ipyvolume\\serialize.py:102: RuntimeWarning: invalid value encountered in cast\n",
      "  subdata[..., i] = ((gradient[i][zindex] / 2.0 + 0.5) * 255).astype(np.uint8)\n"
     ]
    },
    {
     "data": {
      "application/vnd.jupyter.widget-view+json": {
       "model_id": "2ed7e0b7936d4a9e88115fd1cfa7c7f9",
       "version_major": 2,
       "version_minor": 0
      },
      "text/plain": [
       "Container(children=[VBox(children=(HBox(children=(Label(value='levels:'), FloatSlider(value=0.2, max=1.0, step…"
      ]
     },
     "metadata": {},
     "output_type": "display_data"
    }
   ],
   "source": [
    "import numpy as np\n",
    "import ipyvolume as ipv\n",
    "\n",
    "toplot= watermarked_data_reconstructed\n",
    "\n",
    "toplot = toplot- np.min(toplot)\n",
    "toplot = toplot/ np.max(toplot)\n",
    "\n",
    "#dataRoi<<\n",
    "\n",
    "# visualize\n",
    "ipv.figure()\n",
    "ipv.quickvolshow(toplot, level=[0.2, 0.8], opacity=0.1, level_width= 0.1, data_min=0, data_max=1)\n",
    "ipv.view(-30, 40)\n",
    "ipv.show()"
   ]
  },
  {
   "cell_type": "markdown",
   "metadata": {},
   "source": [
    "## Alpha = 0.0001 "
   ]
  },
  {
   "cell_type": "code",
   "execution_count": 18,
   "metadata": {},
   "outputs": [
    {
     "data": {
      "text/plain": [
       "array([[[0.84902654, 0.38901445, 0.4409389 , ..., 0.95847955,\n",
       "         0.29142132, 0.31726914],\n",
       "        [0.51585761, 0.81421573, 0.33872343, ..., 0.87227026,\n",
       "         0.23957227, 0.5469666 ],\n",
       "        [0.29227099, 0.6912991 , 0.24631037, ..., 0.48374436,\n",
       "         0.94418912, 0.43415235],\n",
       "        ...,\n",
       "        [0.4826106 , 0.03207456, 0.75480678, ..., 0.69221159,\n",
       "         0.99344412, 0.53290791],\n",
       "        [0.07418744, 0.81558359, 0.17431921, ..., 0.59308315,\n",
       "         0.18465269, 0.11932506],\n",
       "        [0.79514901, 0.07959999, 0.19207892, ..., 0.16995146,\n",
       "         0.77840891, 0.47151194]],\n",
       "\n",
       "       [[0.44067755, 0.97434097, 0.87747404, ..., 0.47494465,\n",
       "         0.08495315, 0.66019319],\n",
       "        [0.47857768, 0.58718246, 0.48570648, ..., 0.07937885,\n",
       "         0.86391478, 0.98452196],\n",
       "        [0.54097354, 0.52824077, 0.48360963, ..., 0.38344099,\n",
       "         0.25646199, 0.18916408],\n",
       "        ...,\n",
       "        [0.17109258, 0.25593654, 0.46575958, ..., 0.41264986,\n",
       "         0.5283347 , 0.28754988],\n",
       "        [0.47658862, 0.09584832, 0.52979579, ..., 0.64735211,\n",
       "         0.51912533, 0.5819454 ],\n",
       "        [0.48814136, 0.87426341, 0.74536918, ..., 0.57074356,\n",
       "         0.04167238, 0.95390902]],\n",
       "\n",
       "       [[0.14136961, 0.44530807, 0.36524892, ..., 0.8511404 ,\n",
       "         0.01418232, 0.5516477 ],\n",
       "        [0.53740402, 0.4040299 , 0.57651   , ..., 0.04641461,\n",
       "         0.45480987, 0.10789876],\n",
       "        [0.52248434, 0.4222669 , 0.62508217, ..., 0.46355388,\n",
       "         0.78564584, 0.61373866],\n",
       "        ...,\n",
       "        [0.87923627, 0.3030737 , 0.77025994, ..., 0.29310666,\n",
       "         0.89674563, 0.22261877],\n",
       "        [0.67180466, 0.94217669, 0.4596974 , ..., 0.75299656,\n",
       "         0.76801919, 0.10649593],\n",
       "        [0.78118149, 0.8790991 , 0.25549563, ..., 0.15811029,\n",
       "         0.81644229, 0.35949003]],\n",
       "\n",
       "       ...,\n",
       "\n",
       "       [[0.29746572, 0.81512795, 0.2790206 , ..., 0.01002503,\n",
       "         0.47148055, 0.45459533],\n",
       "        [0.02577674, 0.93921698, 0.74381126, ..., 0.60582877,\n",
       "         0.61888989, 0.40222598],\n",
       "        [0.66210102, 0.88903631, 0.29925072, ..., 0.1263908 ,\n",
       "         0.60472101, 0.98447874],\n",
       "        ...,\n",
       "        [0.41595642, 0.32279507, 0.62398043, ..., 0.05583694,\n",
       "         0.42657306, 0.18632191],\n",
       "        [0.73251199, 0.50944483, 0.06228435, ..., 0.64724145,\n",
       "         0.46015095, 0.43014815],\n",
       "        [0.03282995, 0.7692212 , 0.73026653, ..., 0.35351794,\n",
       "         0.9943598 , 0.76682346]],\n",
       "\n",
       "       [[0.85908497, 0.32113961, 0.61508821, ..., 0.04131796,\n",
       "         0.28140169, 0.49476833],\n",
       "        [0.98997329, 0.59323351, 0.14624077, ..., 0.15785031,\n",
       "         0.64361239, 0.74995051],\n",
       "        [0.28523845, 0.51006134, 0.20175193, ..., 0.8704752 ,\n",
       "         0.12358381, 0.90328941],\n",
       "        ...,\n",
       "        [0.78003427, 0.07144534, 0.14857192, ..., 0.27742494,\n",
       "         0.26413963, 0.43476701],\n",
       "        [0.56035104, 0.37120581, 0.52870678, ..., 0.12206131,\n",
       "         0.75903409, 0.26336261],\n",
       "        [0.72861496, 0.13508456, 0.22452851, ..., 0.57053226,\n",
       "         0.28650253, 0.03140979]],\n",
       "\n",
       "       [[0.36259469, 0.36389417, 0.13378308, ..., 0.77468151,\n",
       "         0.0826566 , 0.96578251],\n",
       "        [0.89323369, 0.85643465, 0.19841128, ..., 0.70112279,\n",
       "         0.30573415, 0.6162102 ],\n",
       "        [0.45258767, 0.32409202, 0.5026305 , ..., 0.52991641,\n",
       "         0.87628894, 0.0690679 ],\n",
       "        ...,\n",
       "        [0.93960367, 0.05788237, 0.00365828, ..., 0.8159029 ,\n",
       "         0.97000669, 0.60303789],\n",
       "        [0.67659366, 0.46290384, 0.95040924, ..., 0.525131  ,\n",
       "         0.64319512, 0.23909184],\n",
       "        [0.20469396, 0.14380915, 0.60207216, ..., 0.99854708,\n",
       "         0.90008726, 0.6508906 ]]])"
      ]
     },
     "execution_count": 18,
     "metadata": {},
     "output_type": "execute_result"
    }
   ],
   "source": [
    "# Embed the watermark into the original data with a small alpha value\n",
    "alpha_value = 0.0001 \n",
    "watermarked_coeffs01 = embed_watermark(data, watermark2, alpha_value)\n",
    "\n",
    "# Reconstruct the watermarked volume using IDWT\n",
    "watermarked_data_reconstructed01 = reconstruct_watermarked_volume(watermarked_coeffs, wavelet) \n",
    "\n",
    "retrieved_watermark01 = retrieve_watermark(data, watermarked_coeffs01, alpha_value, watermark.shape)\n",
    "retrieved_watermark01\n"
   ]
  },
  {
   "cell_type": "code",
   "execution_count": 57,
   "metadata": {},
   "outputs": [
    {
     "ename": "NameError",
     "evalue": "name 'watermarked_data_reconstructed01' is not defined",
     "output_type": "error",
     "traceback": [
      "\u001b[1;31m---------------------------------------------------------------------------\u001b[0m",
      "\u001b[1;31mNameError\u001b[0m                                 Traceback (most recent call last)",
      "Cell \u001b[1;32mIn[57], line 4\u001b[0m\n\u001b[0;32m      1\u001b[0m \u001b[38;5;28;01mimport\u001b[39;00m \u001b[38;5;21;01mnumpy\u001b[39;00m \u001b[38;5;28;01mas\u001b[39;00m \u001b[38;5;21;01mnp\u001b[39;00m\n\u001b[0;32m      2\u001b[0m \u001b[38;5;28;01mimport\u001b[39;00m \u001b[38;5;21;01mipyvolume\u001b[39;00m \u001b[38;5;28;01mas\u001b[39;00m \u001b[38;5;21;01mipv\u001b[39;00m\n\u001b[1;32m----> 4\u001b[0m toplot\u001b[38;5;241m=\u001b[39m watermarked_data_reconstructed01\n\u001b[0;32m      6\u001b[0m toplot \u001b[38;5;241m=\u001b[39m toplot\u001b[38;5;241m-\u001b[39m np\u001b[38;5;241m.\u001b[39mmin(toplot)\n\u001b[0;32m      7\u001b[0m toplot \u001b[38;5;241m=\u001b[39m toplot\u001b[38;5;241m/\u001b[39m np\u001b[38;5;241m.\u001b[39mmax(toplot)\n",
      "\u001b[1;31mNameError\u001b[0m: name 'watermarked_data_reconstructed01' is not defined"
     ]
    }
   ],
   "source": [
    "import numpy as np\n",
    "import ipyvolume as ipv\n",
    "\n",
    "toplot= watermarked_data_reconstructed01\n",
    "\n",
    "toplot = toplot- np.min(toplot)\n",
    "toplot = toplot/ np.max(toplot)\n",
    "\n",
    "#dataRoi\n",
    "\n",
    "# visualize\n",
    "ipv.figure()\n",
    "ipv.quickvolshow(toplot, level=[0.2, 0.8], opacity=0.1, level_width= 0.1, data_min=0, data_max=1)\n",
    "ipv.view(-30, 40)\n",
    "ipv.show()"
   ]
  },
  {
   "cell_type": "code",
   "execution_count": null,
   "metadata": {},
   "outputs": [],
   "source": []
  },
  {
   "cell_type": "code",
   "execution_count": 20,
   "metadata": {
    "id": "RLvjHqXR-R-g"
   },
   "outputs": [
    {
     "data": {
      "image/png": "[encoded data removed]",
      "text/plain": [
       "<Figure size 640x480 with 1 Axes>"
      ]
     },
     "metadata": {},
     "output_type": "display_data"
    }
   ],
   "source": [
    "# plot a histogram of values \n",
    "flattened_data = data.flatten()\n",
    "flattened_data2 = watermarked_data_reconstructed.flatten()\n",
    "flattened_data3 = watermarked_data_reconstructed01.flatten()\n",
    "\n",
    "\n",
    "# Plot histograms in the same figure\n",
    "plt.hist(flattened_data, bins=50, density=True, alpha=0.5, color='blue', label='Original data')\n",
    "plt.hist(flattened_data2, bins=50, density=True, alpha=0.5, color='orange', label='Watermarked data alpha 20') \n",
    "plt.hist(flattened_data3, bins=50, density=True, alpha=0.5, color='purple', label='Watermarked data alpha 0.1')\n",
    "\n",
    "plt.xlabel('Value')\n",
    "plt.ylabel('Frequency')\n",
    "plt.title('Histogram original vs watermarked data')\n",
    "plt.legend()\n",
    "plt.grid(True)\n",
    "plt.show()\n",
    "\n",
    "\n",
    "\n",
    "# try multiplication"
   ]
  },
  {
   "cell_type": "markdown",
   "metadata": {},
   "source": [
    "## Adding Watermark through multiplication "
   ]
  },
  {
   "cell_type": "code",
   "execution_count": 11,
   "metadata": {},
   "outputs": [
    {
     "data": {
      "text/plain": [
       "(207, 232, 232)"
      ]
     },
     "execution_count": 11,
     "metadata": {},
     "output_type": "execute_result"
    }
   ],
   "source": [
    "import numpy as np\n",
    "#load .npy file\n",
    "data = np.load('C:/Users/moham/OneDrive/Desktop/thesis/data/npy/smallPiston.npy')\n",
    "\n",
    "data.shape"
   ]
  },
  {
   "cell_type": "code",
   "execution_count": 12,
   "metadata": {},
   "outputs": [
    {
     "name": "stdout",
     "output_type": "stream",
     "text": [
      "C:\\Users\\moham\\OneDrive\\Desktop\\thesis\\notebooks\n"
     ]
    }
   ],
   "source": [
    "import os\n",
    "print(os.getcwd())"
   ]
  },
  {
   "cell_type": "code",
   "execution_count": 15,
   "metadata": {},
   "outputs": [],
   "source": [
    "import qrcode\n",
    "from PIL import Image\n",
    "import numpy as np\n",
    "\n",
    "def createQr(path):\n",
    "    qr = qrcode.QRCode(\n",
    "    version=1,\n",
    "    error_correction=qrcode.constants.ERROR_CORRECT_L,\n",
    "    box_size=10,\n",
    "    border=4,\n",
    "    )\n",
    "    qr.add_data(path)\n",
    "    qr.make(fit=True)\n",
    "\n",
    "    qr_image = qr.make_image(fill_color=\"black\", back_color=\"white\")\n",
    "    return qr_image \n",
    "\n",
    "def qrToArray(qrImagePath):\n",
    "    qrImage = Image.open(qrImagePath)\n",
    "    qrArray = np.array(qrImage)\n",
    "    return qrArray.astype(np.uint8) * 255\n",
    "\n",
    "def qrToWatermark(qrArray, newSize):\n",
    "    #First step is to reshape the watermark \n",
    "    # Resize the QR code array using scipy.ndimage.zoom()\n",
    "    resized_qr_array = zoom(qr_array, (newSize[1] / qr_array.shape[0], newSize[2] / qr_array.shape[1]), order=0)\n",
    "\n",
    "    # stack the qr x times on top of itself in order to create redundancy and make it a 3D array \n",
    "    watermark = np.tile(original_array, (newSize[0], 1, 1))\n",
    "\n",
    "    return watermark  \n"
   ]
  },
  {
   "cell_type": "code",
   "execution_count": 17,
   "metadata": {},
   "outputs": [
    {
     "data": {
      "text/plain": [
       "array([[255, 255, 255, ..., 255, 255, 255],\n",
       "       [255, 255, 255, ..., 255, 255, 255],\n",
       "       [255, 255, 255, ..., 255, 255, 255],\n",
       "       ...,\n",
       "       [255, 255, 255, ..., 255, 255, 255],\n",
       "       [255, 255, 255, ..., 255, 255, 255],\n",
       "       [255, 255, 255, ..., 255, 255, 255]], dtype=uint8)"
      ]
     },
     "execution_count": 17,
     "metadata": {},
     "output_type": "execute_result"
    }
   ],
   "source": [
    "watermark= qrToArray('C:/Users/moham/OneDrive/Desktop/thesis/data/qr/qr_code.png')\n",
    "watermark "
   ]
  },
  {
   "cell_type": "code",
   "execution_count": 18,
   "metadata": {},
   "outputs": [
    {
     "data": {
      "image/png": "[encoded data removed]",
      "text/plain": [
       "<Figure size 640x480 with 1 Axes>"
      ]
     },
     "metadata": {},
     "output_type": "display_data"
    }
   ],
   "source": [
    "import matplotlib.pyplot as plt\n",
    "\n",
    "\n",
    "\n",
    "# Plot the NumPy array using Matplotlib\n",
    "plt.imshow(watermark, cmap='gray')  # cmap='gray' for black and white\n",
    "plt.axis('off')  # Turn off axes\n",
    "plt.show()"
   ]
  },
  {
   "cell_type": "code",
   "execution_count": null,
   "metadata": {},
   "outputs": [],
   "source": []
  }
 ],
 "metadata": {
  "colab": {
   "provenance": []
  },
  "kernelspec": {
   "display_name": "Python 3 (ipykernel)",
   "language": "python",
   "name": "python3"
  },
  "language_info": {
   "codemirror_mode": {
    "name": "ipython",
    "version": 3
   },
   "file_extension": ".py",
   "mimetype": "text/x-python",
   "name": "python",
   "nbconvert_exporter": "python",
   "pygments_lexer": "ipython3",
   "version": "3.11.4"
  },
  "varInspector": {
   "cols": {
    "lenName": 16,
    "lenType": 16,
    "lenVar": 40
   },
   "kernels_config": {
    "python": {
     "delete_cmd_postfix": "",
     "delete_cmd_prefix": "del ",
     "library": "var_list.py",
     "varRefreshCmd": "print(var_dic_list())"
    },
    "r": {
     "delete_cmd_postfix": ") ",
     "delete_cmd_prefix": "rm(",
     "library": "var_list.r",
     "varRefreshCmd": "cat(var_dic_list()) "
    }
   },
   "types_to_exclude": [
    "module",
    "function",
    "builtin_function_or_method",
    "instance",
    "_Feature"
   ],
   "window_display": false
  },
  "widgets": {
   "application/vnd.jupyter.widget-state+json": {}
  }
 },
 "nbformat": 4,
 "nbformat_minor": 1
}
