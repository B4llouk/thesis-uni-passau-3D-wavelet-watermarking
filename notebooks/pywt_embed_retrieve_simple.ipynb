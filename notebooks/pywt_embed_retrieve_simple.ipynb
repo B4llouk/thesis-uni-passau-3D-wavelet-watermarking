{
 "cells": [
  {
   "cell_type": "code",
   "execution_count": 1,
   "metadata": {
    "id": "F_xaEiKoUx6p"
   },
   "outputs": [],
   "source": [
    "import matplotlib.pyplot as plt\n",
    "import pywt\n"
   ]
  },
  {
   "cell_type": "code",
   "execution_count": 3,
   "metadata": {
    "colab": {
     "base_uri": "https://localhost:8080/"
    },
    "id": "bcRlihWKVTEU",
    "outputId": "ff9f0e1a-e1cc-43c6-f85c-e61574d3ecfa"
   },
   "outputs": [
    {
     "data": {
      "text/plain": [
       "(207, 232, 232)"
      ]
     },
     "execution_count": 3,
     "metadata": {},
     "output_type": "execute_result"
    }
   ],
   "source": [
    "import numpy as np\n",
    "#load .npy file\n",
    "data = np.load('../data/npy/smallPiston.npy')\n",
    "\n",
    "\n",
    "\n",
    "data.shape"
   ]
  },
  {
   "cell_type": "code",
   "execution_count": 4,
   "metadata": {
    "id": "YCJMdUeCUlVk"
   },
   "outputs": [],
   "source": [
    "\n",
    "# Maybe the watermark can be a string coded into a numpy, got to look how to do that\n",
    "#Maybe the watermark can be a QR code or an image?\n",
    "# define the way to go for the watermark\n",
    "watermark = np.array([[[0, 1],\n",
    "                       [0, 0]],\n",
    "                      [[12, 0.],\n",
    "                       [0, 33]]])\n",
    "\n",
    "# Wavelet to be used\n",
    "wavelet = 'haar'\n",
    "\n",
    "# Watermark size needs to match the approx coéfficients size\n",
    "def resize_watermark(watermark, shape):\n",
    "    # Convert watermark and approx_coeffs to numpy arrays\n",
    "    watermark = np.array(watermark)\n",
    "    return np.kron(watermark, np.ones(np.array(shape) // np.array(watermark.shape)))\n",
    "\n",
    "# add the watermark to coefficients\n",
    "def embed_watermark(original_data, watermark, alpha=0.00001):\n",
    "    coefficients = pywt.dwtn(original_data, wavelet, mode='symmetric', axes=None)\n",
    "\n",
    "    # Extract the approximation coefficients from the DWT\n",
    "    approx_coeffs = coefficients['aaa']\n",
    "\n",
    "    # Resize watermark => the approximation coefficients\n",
    "    resized_watermark = resize_watermark(watermark, approx_coeffs.shape)\n",
    "\n",
    "    scaled_watermark = np.multiply(resized_watermark, 12)\n",
    "\n",
    "    watermarked_coeffs = approx_coeffs + scaled_watermark\n",
    "\n",
    "    # Create a new dictionary with the watermarked coefficients\n",
    "    watermarked_coeffs_dict = dict(coefficients)\n",
    "    watermarked_coeffs_dict['aaa'] = watermarked_coeffs\n",
    "\n",
    "    return watermarked_coeffs_dict\n",
    "\n",
    "def reconstruct_watermarked_volume(watermarked_coeffs, wavelet):\n",
    "    # Perform inverse 3D DWT to reconstruct the watermarked volume\n",
    "    watermarked_data = pywt.idwtn(watermarked_coeffs, wavelet, mode='symmetric', axes=None)\n",
    "    return watermarked_data\n",
    "\n",
    "alpha_value = 20\n",
    "watermarked_coeffs = embed_watermark(data, watermark, alpha=alpha_value)\n",
    "\n",
    "watermarked_data_reconstructed = reconstruct_watermarked_volume(watermarked_coeffs, wavelet)\n",
    "\n"
   ]
  },
  {
   "cell_type": "code",
   "execution_count": null,
   "metadata": {
    "colab": {
     "base_uri": "https://localhost:8080/"
    },
    "id": "Ys30IfE_U09t",
    "outputId": "ac9a275d-7855-435a-cebf-71c77d494095"
   },
   "outputs": [],
   "source": []
  },
  {
   "cell_type": "code",
   "execution_count": 5,
   "metadata": {
    "colab": {
     "background_save": true,
     "base_uri": "https://localhost:8080/",
     "height": 17,
     "referenced_widgets": [
      "52211da79c5744eaa89eb3cd5e4b18c7",
      "8ddbdf4556374ffea573f1dacf7b97c3",
      "76a3f3d61bc14c89a59dbb6e71b5b898"
     ]
    },
    "id": "kbOuBp5g9W0Q",
    "outputId": "eb985e02-4b88-4b0b-d8d3-28f21906a023"
   },
   "outputs": [
    {
     "name": "stderr",
     "output_type": "stream",
     "text": [
      "C:\\Users\\moham\\anaconda3\\envs\\thesis\\Lib\\site-packages\\ipyvolume\\serialize.py:102: RuntimeWarning: invalid value encountered in cast\n",
      "  subdata[..., i] = ((gradient[i][zindex] / 2.0 + 0.5) * 255).astype(np.uint8)\n"
     ]
    },
    {
     "data": {
      "application/vnd.jupyter.widget-view+json": {
       "model_id": "31f7d186eeea4703bb4030be6ba309f6",
       "version_major": 2,
       "version_minor": 0
      },
      "text/plain": [
       "Container(children=[VBox(children=(HBox(children=(Label(value='levels:'), FloatSlider(value=0.2, max=1.0, step…"
      ]
     },
     "metadata": {},
     "output_type": "display_data"
    }
   ],
   "source": [
    "import numpy as np\n",
    "import ipyvolume as ipv\n",
    "\n",
    "toplot= data[::2,::2,::2]\n",
    "\n",
    "toplot = toplot- np.min(toplot)\n",
    "toplot = toplot/ np.max(toplot)\n",
    "\n",
    "ipv.figure()\n",
    "ipv.quickvolshow(toplot, level=[0.2, 0.8], opacity=0.1, level_width= 0.1, data_min=0, data_max=1)\n",
    "ipv.view(-30, 40)\n",
    "ipv.show()"
   ]
  },
  {
   "cell_type": "code",
   "execution_count": 6,
   "metadata": {
    "colab": {
     "background_save": true,
     "base_uri": "https://localhost:8080/",
     "height": 542,
     "referenced_widgets": [
      "8cfe8bfc8f544637a0451e0a871a623e",
      "ca420ae17ad246ad9f5f87cfbd5ed091",
      "7968349dd88141ca96e59534ca8776b5"
     ]
    },
    "id": "zCW6Rbdk96n7",
    "outputId": "012fb67f-f329-4dd4-93e2-7ef680aa250e"
   },
   "outputs": [
    {
     "data": {
      "application/vnd.jupyter.widget-view+json": {
       "model_id": "eedfb0f503f0468f8a0852fffaedc407",
       "version_major": 2,
       "version_minor": 0
      },
      "text/plain": [
       "Container(children=[VBox(children=(HBox(children=(Label(value='levels:'), FloatSlider(value=0.2, max=1.0, step…"
      ]
     },
     "metadata": {},
     "output_type": "display_data"
    }
   ],
   "source": [
    "import numpy as np\n",
    "import ipyvolume as ipv\n",
    "\n",
    "toplot= watermarked_data_reconstructed[::2,::2,::2]\n",
    "\n",
    "toplot = toplot- np.min(toplot)\n",
    "toplot = toplot/ np.max(toplot)\n",
    "\n",
    "ipv.figure()\n",
    "ipv.quickvolshow(toplot, level=[0.2, 0.8], opacity=0.1, level_width= 0.1, data_min=0, data_max=1)\n",
    "ipv.view(-30, 40)\n",
    "ipv.show()"
   ]
  },
  {
   "cell_type": "code",
   "execution_count": 7,
   "metadata": {
    "id": "RLvjHqXR-R-g"
   },
   "outputs": [],
   "source": [
    "# Function to extract the watermark\n",
    "def retrieve_watermark(original_data, watermarked_coeffs, alpha, watermark_shape):\n",
    "    # Perform 3D DWT on the original data\n",
    "    coefficients = pywt.dwtn(original_data, wavelet, mode='symmetric', axes=None)\n",
    "    # Extract the approximation coefficients from the DWT\n",
    "    approx_coeffs = coefficients['aaa']\n",
    "    \n",
    "    watermarked_approx_coeffs = watermarked_coeffs['aaa']\n",
    "    \n",
    "    # Calculate the difference between watermarked and original approximation coefficients\n",
    "    diff_coeffs = watermarked_approx_coeffs - approx_coeffs\n",
    "    \n",
    "    resized_diff_coeffs = resize_watermark(diff_coeffs, watermark_shape)\n",
    "    \n",
    "    retrieved_watermark = resized_diff_coeffs / alpha\n",
    "    \n",
    "    return retrieved_watermark\n"
   ]
  },
  {
   "cell_type": "code",
   "execution_count": 8,
   "metadata": {},
   "outputs": [
    {
     "data": {
      "text/plain": [
       "array([], shape=(0, 0, 0), dtype=float64)"
      ]
     },
     "execution_count": 8,
     "metadata": {},
     "output_type": "execute_result"
    }
   ],
   "source": [
    "retrieved_watermark = retrieve_watermark(data, watermarked_coeffs, alpha_value, watermark.shape)\n",
    "retrieved_watermark"
   ]
  },
  {
   "cell_type": "code",
   "execution_count": null,
   "metadata": {},
   "outputs": [],
   "source": []
  },
  {
   "cell_type": "code",
   "execution_count": null,
   "metadata": {},
   "outputs": [],
   "source": []
  }
 ],
 "metadata": {
  "colab": {
   "provenance": []
  },
  "kernelspec": {
   "display_name": "Python 3 (ipykernel)",
   "language": "python",
   "name": "python3"
  },
  "language_info": {
   "codemirror_mode": {
    "name": "ipython",
    "version": 3
   },
   "file_extension": ".py",
   "mimetype": "text/x-python",
   "name": "python",
   "nbconvert_exporter": "python",
   "pygments_lexer": "ipython3",
   "version": "3.11.4"
  },
  "varInspector": {
   "cols": {
    "lenName": 16,
    "lenType": 16,
    "lenVar": 40
   },
   "kernels_config": {
    "python": {
     "delete_cmd_postfix": "",
     "delete_cmd_prefix": "del ",
     "library": "var_list.py",
     "varRefreshCmd": "print(var_dic_list())"
    },
    "r": {
     "delete_cmd_postfix": ") ",
     "delete_cmd_prefix": "rm(",
     "library": "var_list.r",
     "varRefreshCmd": "cat(var_dic_list()) "
    }
   },
   "types_to_exclude": [
    "module",
    "function",
    "builtin_function_or_method",
    "instance",
    "_Feature"
   ],
   "window_display": false
  },
  "widgets": {
   "application/vnd.jupyter.widget-state+json": {}
  }
 },
 "nbformat": 4,
 "nbformat_minor": 1
}
