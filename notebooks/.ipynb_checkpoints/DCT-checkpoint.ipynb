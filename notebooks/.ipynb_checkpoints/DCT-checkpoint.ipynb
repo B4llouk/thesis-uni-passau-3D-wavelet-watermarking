{
 "cells": [
  {
   "cell_type": "code",
   "execution_count": 2,
   "id": "a1cacc83",
   "metadata": {},
   "outputs": [
    {
     "name": "stdout",
     "output_type": "stream",
     "text": [
      "[[255 255 255 ... 255 255 255]\n",
      " [255 255 255 ... 255 255 255]\n",
      " [255 255 255 ... 255 255 255]\n",
      " ...\n",
      " [255 255 255 ... 255 255 255]\n",
      " [255 255 255 ... 255 255 255]\n",
      " [255 255 255 ... 255 255 255]]\n"
     ]
    },
    {
     "data": {
      "text/plain": [
       "((207, 232, 232), (60, 60, 60), (370, 370))"
      ]
     },
     "execution_count": 2,
     "metadata": {},
     "output_type": "execute_result"
    }
   ],
   "source": [
    "import numpy as np\n",
    "import pywt\n",
    "import scipy.fftpack as spfft\n",
    "import scipy.signal as spsg\n",
    "import helpers.qr \n",
    "import helpers.wavelet\n",
    "import helpers.wm\n",
    "import helpers.plots\n",
    "\n",
    "\n",
    "#Original data\n",
    "import numpy as np\n",
    "#load .npy file\n",
    "data = np.load('../data/npy/smallPiston.npy')\n",
    "injector = np.load('../data/npy/injector.npy')\n",
    "\n",
    "\n",
    "\n",
    "#Watermark data \n",
    "watermark= helpers.qr.qrToArray('../data/qr/qr_code.png')\n",
    "\n",
    "data.shape, injector.shape, watermark.shape"
   ]
  },
  {
   "cell_type": "code",
   "execution_count": 3,
   "id": "125f8469",
   "metadata": {},
   "outputs": [],
   "source": [
    "watermark_piston=helpers.wm.reshapeWm(watermark, data.shape) \n",
    "watermark_injector=helpers.wm.reshapeWm(watermark, injector.shape) "
   ]
  },
  {
   "cell_type": "markdown",
   "id": "51a586fb",
   "metadata": {},
   "source": [
    "alpha = 0.001"
   ]
  },
  {
   "cell_type": "code",
   "execution_count": 4,
   "id": "388421f7",
   "metadata": {},
   "outputs": [],
   "source": [
    "# Perform a 3D DCT on the original data\n",
    "dct_coefficients = spfft.dctn(data, norm='ortho')\n",
    "dct_coefficients_injector = spfft.dctn(injector, norm='ortho')\n",
    "\n",
    "# Embed watermark in DCT coefficients (e.g., in the low-frequency coefficients)\n",
    "alpha = 0.001 # Adjust the strength of watermark embedding\n",
    "dct_coefficients[:watermark.size] += alpha * watermark_piston\n",
    "dct_coefficients_injector[:watermark.size] += alpha * watermark_injector\n",
    "\n",
    "# Perform inverse 3D DCT to get the watermarked data\n",
    "watermarked_data = spfft.idctn(dct_coefficients, norm='ortho')\n",
    "watermarked_data_injector= spfft.idctn(dct_coefficients_injector, norm='ortho')\n",
    "# Save the watermarked data to a file (replace 'watermarked_3d_numpy_file.npy' with your desired file name)\n",
    "np.save('watermarked_3d_numpy_file_piston.npy', watermarked_data)\n",
    "np.save('watermarked_3d_numpy_file_injector.npy', watermarked_data_injector)"
   ]
  },
  {
   "cell_type": "markdown",
   "id": "4fc33bf4",
   "metadata": {},
   "source": [
    "Plot piston then injector alpha = 0.001"
   ]
  },
  {
   "cell_type": "code",
   "execution_count": 5,
   "id": "b7df6b5c",
   "metadata": {},
   "outputs": [
    {
     "data": {
      "application/vnd.jupyter.widget-view+json": {
       "model_id": "d1e9e81a24a44856aae52dc1fed762a4",
       "version_major": 2,
       "version_minor": 0
      },
      "text/plain": [
       "Container(children=[VBox(children=(HBox(children=(Label(value='levels:'), FloatSlider(value=0.2, max=1.0, step…"
      ]
     },
     "metadata": {},
     "output_type": "display_data"
    },
    {
     "data": {
      "text/plain": [
       "0"
      ]
     },
     "execution_count": 5,
     "metadata": {},
     "output_type": "execute_result"
    }
   ],
   "source": [
    "helpers.plots.ivyplot(watermarked_data)"
   ]
  },
  {
   "cell_type": "markdown",
   "id": "25959be6",
   "metadata": {},
   "source": [
    "here we used DCT w 3D Orthogonal DCT, which corresponds to DCT-II (forward DCT) and DCT-III (inverse DCT) in three dimensions.ith pywvt"
   ]
  },
  {
   "cell_type": "markdown",
   "id": "ba6c5dc2",
   "metadata": {},
   "source": [
    "For norm=\"ortho\" both the dct and idct are scaled by the same overall factor in both directions. By default, the transform is also orthogonalized which for types 1, 2 and 3 means the transform definition is modified to give orthogonality of the DCT matrix (see below)."
   ]
  },
  {
   "cell_type": "markdown",
   "id": "3c0de137",
   "metadata": {},
   "source": [
    "There are, theoretically, 8 types of the DCT, only the first 4 types are implemented in SciPy.’The’ DCT generally refers to DCT type 2, and ‘the’ Inverse DCT generally refers to DCT type 3."
   ]
  },
  {
   "cell_type": "code",
   "execution_count": 6,
   "id": "341cc8ef",
   "metadata": {},
   "outputs": [
    {
     "data": {
      "application/vnd.jupyter.widget-view+json": {
       "model_id": "d51fb346641d49529545d7be026a854a",
       "version_major": 2,
       "version_minor": 0
      },
      "text/plain": [
       "Container(children=[VBox(children=(HBox(children=(Label(value='levels:'), FloatSlider(value=0.2, max=1.0, step…"
      ]
     },
     "metadata": {},
     "output_type": "display_data"
    },
    {
     "data": {
      "text/plain": [
       "0"
      ]
     },
     "execution_count": 6,
     "metadata": {},
     "output_type": "execute_result"
    }
   ],
   "source": [
    "helpers.plots.ivyplot(watermarked_data_injector)"
   ]
  },
  {
   "cell_type": "markdown",
   "id": "a29b62dd",
   "metadata": {},
   "source": [
    "Metrics"
   ]
  },
  {
   "cell_type": "code",
   "execution_count": 6,
   "id": "350e7843",
   "metadata": {},
   "outputs": [],
   "source": [
    "# Peak signal to noise ratio (PSNR) \n",
    "import numpy as np\n",
    "from skimage.metrics import peak_signal_noise_ratio\n",
    "## SSIM\n",
    "from skimage.metrics import structural_similarity"
   ]
  },
  {
   "cell_type": "code",
   "execution_count": 7,
   "id": "c65e5712",
   "metadata": {},
   "outputs": [
    {
     "name": "stderr",
     "output_type": "stream",
     "text": [
      "C:\\Users\\moham\\AppData\\Local\\Temp\\ipykernel_17868\\3487964881.py:1: UserWarning: Inputs have mismatched dtype.  Setting data_range based on image_true.\n",
      "  psnr_piston= peak_signal_noise_ratio(data,watermarked_data)\n",
      "C:\\Users\\moham\\AppData\\Local\\Temp\\ipykernel_17868\\3487964881.py:2: UserWarning: Inputs have mismatched dtype.  Setting data_range based on image_true.\n",
      "  psnr_injector= peak_signal_noise_ratio(injector,watermarked_data_injector)\n"
     ]
    }
   ],
   "source": [
    "psnr_piston= peak_signal_noise_ratio(data,watermarked_data)\n",
    "psnr_injector= peak_signal_noise_ratio(injector,watermarked_data_injector)"
   ]
  },
  {
   "cell_type": "code",
   "execution_count": 8,
   "id": "e3b44de6",
   "metadata": {},
   "outputs": [
    {
     "data": {
      "text/plain": [
       "(109.84286885561329, 61.506147140945096)"
      ]
     },
     "execution_count": 8,
     "metadata": {},
     "output_type": "execute_result"
    }
   ],
   "source": [
    "psnr_piston, psnr_injector"
   ]
  },
  {
   "cell_type": "code",
   "execution_count": 9,
   "id": "95c56df9",
   "metadata": {},
   "outputs": [
    {
     "data": {
      "text/plain": [
       "55681.99827289028"
      ]
     },
     "execution_count": 9,
     "metadata": {},
     "output_type": "execute_result"
    }
   ],
   "source": [
    "watermarked_data.max()"
   ]
  },
  {
   "cell_type": "code",
   "execution_count": 10,
   "id": "6e626c4d",
   "metadata": {},
   "outputs": [],
   "source": [
    "scaled_watermarked_data = (watermarked_data / watermarked_data.max()) * 255\n"
   ]
  },
  {
   "cell_type": "code",
   "execution_count": 11,
   "id": "8e8a2136",
   "metadata": {},
   "outputs": [],
   "source": [
    "scaled_data= (data / data.max()) * 255\n"
   ]
  },
  {
   "cell_type": "code",
   "execution_count": 12,
   "id": "c459e558",
   "metadata": {},
   "outputs": [
    {
     "name": "stderr",
     "output_type": "stream",
     "text": [
      "C:\\Users\\moham\\AppData\\Local\\Temp\\ipykernel_17868\\636795478.py:1: UserWarning: Inputs have mismatched dtype.  Setting data_range based on image_true.\n",
      "  psnr_piston= peak_signal_noise_ratio(data,scaled_watermarked_data)\n"
     ]
    },
    {
     "data": {
      "text/plain": [
       "23.98653617941307"
      ]
     },
     "execution_count": 12,
     "metadata": {},
     "output_type": "execute_result"
    }
   ],
   "source": [
    "psnr_piston= peak_signal_noise_ratio(data,scaled_watermarked_data)\n",
    "psnr_piston"
   ]
  },
  {
   "cell_type": "code",
   "execution_count": 13,
   "id": "7894ad66",
   "metadata": {},
   "outputs": [
    {
     "ename": "ValueError",
     "evalue": "image_true has intensity values outside the range expected for its data type. Please manually specify the data_range.",
     "output_type": "error",
     "traceback": [
      "\u001b[1;31m---------------------------------------------------------------------------\u001b[0m",
      "\u001b[1;31mValueError\u001b[0m                                Traceback (most recent call last)",
      "Cell \u001b[1;32mIn[13], line 4\u001b[0m\n\u001b[0;32m      1\u001b[0m injector \u001b[38;5;241m=\u001b[39m (injector \u001b[38;5;241m/\u001b[39m injector\u001b[38;5;241m.\u001b[39mmax()) \u001b[38;5;241m*\u001b[39m \u001b[38;5;241m255\u001b[39m\n\u001b[0;32m      2\u001b[0m watermarked_data_injector \u001b[38;5;241m=\u001b[39m (watermarked_data_injector \u001b[38;5;241m/\u001b[39m watermarked_data_injector\u001b[38;5;241m.\u001b[39mmax()) \u001b[38;5;241m*\u001b[39m \u001b[38;5;241m255\u001b[39m\n\u001b[1;32m----> 4\u001b[0m psnr_injector\u001b[38;5;241m=\u001b[39m peak_signal_noise_ratio(injector,   watermarked_data_injector)\n",
      "File \u001b[1;32m~\\anaconda3\\envs\\thesis\\Lib\\site-packages\\skimage\\metrics\\simple_metrics.py:151\u001b[0m, in \u001b[0;36mpeak_signal_noise_ratio\u001b[1;34m(image_true, image_test, data_range)\u001b[0m\n\u001b[0;32m    149\u001b[0m true_min, true_max \u001b[38;5;241m=\u001b[39m np\u001b[38;5;241m.\u001b[39mmin(image_true), np\u001b[38;5;241m.\u001b[39mmax(image_true)\n\u001b[0;32m    150\u001b[0m \u001b[38;5;28;01mif\u001b[39;00m true_max \u001b[38;5;241m>\u001b[39m dmax \u001b[38;5;129;01mor\u001b[39;00m true_min \u001b[38;5;241m<\u001b[39m dmin:\n\u001b[1;32m--> 151\u001b[0m     \u001b[38;5;28;01mraise\u001b[39;00m \u001b[38;5;167;01mValueError\u001b[39;00m(\n\u001b[0;32m    152\u001b[0m         \u001b[38;5;124m\"\u001b[39m\u001b[38;5;124mimage_true has intensity values outside the range expected \u001b[39m\u001b[38;5;124m\"\u001b[39m\n\u001b[0;32m    153\u001b[0m         \u001b[38;5;124m\"\u001b[39m\u001b[38;5;124mfor its data type. Please manually specify the data_range.\u001b[39m\u001b[38;5;124m\"\u001b[39m)\n\u001b[0;32m    154\u001b[0m \u001b[38;5;28;01mif\u001b[39;00m true_min \u001b[38;5;241m>\u001b[39m\u001b[38;5;241m=\u001b[39m \u001b[38;5;241m0\u001b[39m:\n\u001b[0;32m    155\u001b[0m     \u001b[38;5;66;03m# most common case (255 for uint8, 1 for float)\u001b[39;00m\n\u001b[0;32m    156\u001b[0m     data_range \u001b[38;5;241m=\u001b[39m dmax\n",
      "\u001b[1;31mValueError\u001b[0m: image_true has intensity values outside the range expected for its data type. Please manually specify the data_range."
     ]
    }
   ],
   "source": [
    "injector = (injector / injector.max()) * 255\n",
    "watermarked_data_injector = (watermarked_data_injector / watermarked_data_injector.max()) * 255\n",
    "\n",
    "psnr_injector= peak_signal_noise_ratio(injector,   watermarked_data_injector)"
   ]
  },
  {
   "cell_type": "code",
   "execution_count": null,
   "id": "d5094f16",
   "metadata": {},
   "outputs": [],
   "source": []
  },
  {
   "cell_type": "code",
   "execution_count": null,
   "id": "28a1770f",
   "metadata": {},
   "outputs": [],
   "source": []
  },
  {
   "cell_type": "markdown",
   "id": "2b07865b",
   "metadata": {},
   "source": [
    "alpha=0.0001"
   ]
  },
  {
   "cell_type": "code",
   "execution_count": 25,
   "id": "94ab58b7",
   "metadata": {},
   "outputs": [],
   "source": [
    "# Perform a 3D DCT on the original data\n",
    "dct_coefficients = spfft.dctn(data, norm='ortho')\n",
    "dct_coefficients_injector = spfft.dctn(injector, norm='ortho')\n",
    "\n",
    "# Embed watermark in DCT coefficients (e.g., in the low-frequency coefficients)\n",
    "alpha=0.0001 # Adjust the strength of watermark embedding\n",
    "dct_coefficients[:watermark.size] += alpha * watermark_piston\n",
    "dct_coefficients_injector[:watermark.size] += alpha * watermark_injector\n",
    "\n",
    "# Perform inverse 3D DCT to get the watermarked data\n",
    "watermarked_data2 = spfft.idctn(dct_coefficients, norm='ortho')\n",
    "watermarked_data_injector2= spfft.idctn(dct_coefficients_injector, norm='ortho')\n",
    "# Save the watermarked data to a file (replace 'watermarked_3d_numpy_file.npy' with your desired file name)\n",
    "np.save('watermarked_3d_numpy_file_piston.npy', watermarked_data)\n",
    "np.save('watermarked_3d_numpy_file_injector.npy', watermarked_data_injector)"
   ]
  },
  {
   "cell_type": "code",
   "execution_count": 26,
   "id": "9cd4b1ba",
   "metadata": {},
   "outputs": [
    {
     "data": {
      "application/vnd.jupyter.widget-view+json": {
       "model_id": "270153d470b64f2994e658cf766711d0",
       "version_major": 2,
       "version_minor": 0
      },
      "text/plain": [
       "Container(children=[VBox(children=(HBox(children=(Label(value='levels:'), FloatSlider(value=0.2, max=1.0, step…"
      ]
     },
     "metadata": {},
     "output_type": "display_data"
    },
    {
     "data": {
      "text/plain": [
       "0"
      ]
     },
     "execution_count": 26,
     "metadata": {},
     "output_type": "execute_result"
    }
   ],
   "source": [
    "helpers.plots.ivyplot(watermarked_data2)"
   ]
  },
  {
   "cell_type": "code",
   "execution_count": 27,
   "id": "4eec489c",
   "metadata": {},
   "outputs": [
    {
     "data": {
      "application/vnd.jupyter.widget-view+json": {
       "model_id": "1b1594e00db3435691e677e5fcb1d536",
       "version_major": 2,
       "version_minor": 0
      },
      "text/plain": [
       "Container(children=[VBox(children=(HBox(children=(Label(value='levels:'), FloatSlider(value=0.2, max=1.0, step…"
      ]
     },
     "metadata": {},
     "output_type": "display_data"
    },
    {
     "data": {
      "text/plain": [
       "0"
      ]
     },
     "execution_count": 27,
     "metadata": {},
     "output_type": "execute_result"
    }
   ],
   "source": [
    "helpers.plots.ivyplot(watermarked_data_injector2)"
   ]
  },
  {
   "cell_type": "code",
   "execution_count": null,
   "id": "6aa1b385",
   "metadata": {},
   "outputs": [],
   "source": []
  },
  {
   "cell_type": "markdown",
   "id": "0c2b6716",
   "metadata": {},
   "source": [
    "alpha=0.01"
   ]
  },
  {
   "cell_type": "code",
   "execution_count": 28,
   "id": "dfc6e64f",
   "metadata": {},
   "outputs": [],
   "source": [
    "# Perform a 3D DCT on the original data\n",
    "dct_coefficients = spfft.dctn(data, norm='ortho')\n",
    "dct_coefficients_injector = spfft.dctn(injector, norm='ortho')\n",
    "\n",
    "# Embed watermark in DCT coefficients (e.g., in the low-frequency coefficients)\n",
    "alpha=0.01 # Adjust the strength of watermark embedding\n",
    "dct_coefficients[:watermark.size] += alpha * watermark_piston\n",
    "dct_coefficients_injector[:watermark.size] += alpha * watermark_injector\n",
    "\n",
    "# Perform inverse 3D DCT to get the watermarked data\n",
    "watermarked_data3 = spfft.idctn(dct_coefficients, norm='ortho')\n",
    "watermarked_data_injector3= spfft.idctn(dct_coefficients_injector, norm='ortho')\n",
    "# Save the watermarked data to a file (replace 'watermarked_3d_numpy_file.npy' with your desired file name)\n",
    "np.save('watermarked_3d_numpy_file_piston.npy', watermarked_data)\n",
    "np.save('watermarked_3d_numpy_file_injector.npy', watermarked_data_injector)"
   ]
  },
  {
   "cell_type": "code",
   "execution_count": 29,
   "id": "b3c8dbb9",
   "metadata": {},
   "outputs": [
    {
     "data": {
      "application/vnd.jupyter.widget-view+json": {
       "model_id": "5ecb2ef7cc9e41978cfcd551736113db",
       "version_major": 2,
       "version_minor": 0
      },
      "text/plain": [
       "Container(children=[VBox(children=(HBox(children=(Label(value='levels:'), FloatSlider(value=0.2, max=1.0, step…"
      ]
     },
     "metadata": {},
     "output_type": "display_data"
    },
    {
     "data": {
      "text/plain": [
       "0"
      ]
     },
     "execution_count": 29,
     "metadata": {},
     "output_type": "execute_result"
    }
   ],
   "source": [
    "helpers.plots.ivyplot(watermarked_data3)"
   ]
  },
  {
   "cell_type": "code",
   "execution_count": 30,
   "id": "a893be97",
   "metadata": {},
   "outputs": [
    {
     "data": {
      "application/vnd.jupyter.widget-view+json": {
       "model_id": "4775f61b319d47419a3e837cef16ed12",
       "version_major": 2,
       "version_minor": 0
      },
      "text/plain": [
       "Container(children=[VBox(children=(HBox(children=(Label(value='levels:'), FloatSlider(value=0.2, max=1.0, step…"
      ]
     },
     "metadata": {},
     "output_type": "display_data"
    },
    {
     "data": {
      "text/plain": [
       "0"
      ]
     },
     "execution_count": 30,
     "metadata": {},
     "output_type": "execute_result"
    }
   ],
   "source": [
    "helpers.plots.ivyplot(watermarked_data_injector3)"
   ]
  },
  {
   "cell_type": "code",
   "execution_count": null,
   "id": "cbf74986",
   "metadata": {},
   "outputs": [],
   "source": []
  },
  {
   "cell_type": "code",
   "execution_count": 16,
   "id": "d3e9f1cd",
   "metadata": {},
   "outputs": [],
   "source": [
    "from skimage.metrics import structural_similarity\n",
    "ssim_piston = structural_similarity(data, watermarked_data,  data_range=data.max() - data.min())\n",
    "ssim_injector= structural_similarity(injector , watermarked_data_injector,  data_range=injector.max() - injector.min())"
   ]
  },
  {
   "cell_type": "code",
   "execution_count": 17,
   "id": "edc93ffc",
   "metadata": {},
   "outputs": [
    {
     "data": {
      "text/plain": [
       "(0.9999999991544952, 0.9999392235868079)"
      ]
     },
     "execution_count": 17,
     "metadata": {},
     "output_type": "execute_result"
    }
   ],
   "source": [
    "ssim_piston, ssim_injector"
   ]
  },
  {
   "cell_type": "code",
   "execution_count": null,
   "id": "47d957cf",
   "metadata": {},
   "outputs": [],
   "source": []
  },
  {
   "cell_type": "markdown",
   "id": "1a2e4246",
   "metadata": {},
   "source": [
    "### PCNR"
   ]
  },
  {
   "cell_type": "code",
   "execution_count": 7,
   "id": "181848bb",
   "metadata": {},
   "outputs": [],
   "source": [
    "def scale_3d_array_to_0_255(arr):\n",
    "    # Normalize the array to have values between 0 and 1\n",
    "    arr_min = arr.min()\n",
    "    arr_max = arr.max()\n",
    "    normalized_arr = (arr - arr_min) / (arr_max - arr_min)\n",
    "\n",
    "    # Scale to 0-255, keeping the values as floating point numbers\n",
    "    scaled_arr = normalized_arr * 255\n",
    "    return scaled_arr\n",
    "\n",
    "scaled_data= scale_3d_array_to_0_255(data)\n",
    "scaled_injector=scale_3d_array_to_0_255(injector)"
   ]
  },
  {
   "cell_type": "code",
   "execution_count": null,
   "id": "296e5012",
   "metadata": {},
   "outputs": [],
   "source": []
  },
  {
   "cell_type": "code",
   "execution_count": 8,
   "id": "b1c0e339",
   "metadata": {},
   "outputs": [
    {
     "data": {
      "text/plain": [
       "2005107.6721859514"
      ]
     },
     "execution_count": 8,
     "metadata": {},
     "output_type": "execute_result"
    }
   ],
   "source": [
    "# Calculate PCNR Piston\n",
    "watermarked_data_reconstructed= scale_3d_array_to_0_255(watermarked_data)\n",
    "# Calculate PCNR\n",
    "correlation = np.sum(scaled_data * watermarked_data_reconstructed)\n",
    "max_correlation = np.max(correlation)\n",
    "noise = watermarked_data_reconstructed - scaled_data\n",
    "noise_magnitude = np.linalg.norm(noise)\n",
    "pcnr_piston = max_correlation / noise_magnitude    \n",
    "\n",
    "pcnr_piston"
   ]
  },
  {
   "cell_type": "code",
   "execution_count": null,
   "id": "a41bb1b4",
   "metadata": {},
   "outputs": [],
   "source": []
  }
 ],
 "metadata": {
  "kernelspec": {
   "display_name": "Python 3 (ipykernel)",
   "language": "python",
   "name": "python3"
  },
  "language_info": {
   "codemirror_mode": {
    "name": "ipython",
    "version": 3
   },
   "file_extension": ".py",
   "mimetype": "text/x-python",
   "name": "python",
   "nbconvert_exporter": "python",
   "pygments_lexer": "ipython3",
   "version": "3.11.4"
  },
  "varInspector": {
   "cols": {
    "lenName": 16,
    "lenType": 16,
    "lenVar": 40
   },
   "kernels_config": {
    "python": {
     "delete_cmd_postfix": "",
     "delete_cmd_prefix": "del ",
     "library": "var_list.py",
     "varRefreshCmd": "print(var_dic_list())"
    },
    "r": {
     "delete_cmd_postfix": ") ",
     "delete_cmd_prefix": "rm(",
     "library": "var_list.r",
     "varRefreshCmd": "cat(var_dic_list()) "
    }
   },
   "types_to_exclude": [
    "module",
    "function",
    "builtin_function_or_method",
    "instance",
    "_Feature"
   ],
   "window_display": false
  }
 },
 "nbformat": 4,
 "nbformat_minor": 5
}
