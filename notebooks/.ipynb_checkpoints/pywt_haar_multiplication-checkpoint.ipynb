{
 "cells": [
  {
   "cell_type": "code",
   "execution_count": 13,
   "id": "cca04979",
   "metadata": {},
   "outputs": [
    {
     "data": {
      "text/plain": [
       "(207, 232, 232)"
      ]
     },
     "execution_count": 13,
     "metadata": {},
     "output_type": "execute_result"
    }
   ],
   "source": [
    "import matplotlib.pyplot as plt\n",
    "import numpy as np\n",
    "import pywt\n",
    "\n",
    "import numpy as np\n",
    "#load .npy file\n",
    "data = np.load('C:/Users/moham/OneDrive/Desktop/thesis/data/npy/smallPiston.npy')\n",
    "\n",
    "data.shape"
   ]
  },
  {
   "cell_type": "code",
   "execution_count": 2,
   "id": "802583ef",
   "metadata": {},
   "outputs": [
    {
     "name": "stderr",
     "output_type": "stream",
     "text": [
      "'importlib.reload' is not recognized as an internal or external command,\n",
      "operable program or batch file.\n"
     ]
    }
   ],
   "source": [
    "#import helpers here when cleaning"
   ]
  },
  {
   "cell_type": "code",
   "execution_count": 14,
   "id": "2381578f",
   "metadata": {},
   "outputs": [
    {
     "data": {
      "text/plain": [
       "(55682, 0)"
      ]
     },
     "execution_count": 14,
     "metadata": {},
     "output_type": "execute_result"
    }
   ],
   "source": [
    "np.max(data), np.min(data)"
   ]
  },
  {
   "cell_type": "code",
   "execution_count": 15,
   "id": "94b62e9e",
   "metadata": {},
   "outputs": [],
   "source": []
  },
  {
   "cell_type": "code",
   "execution_count": 16,
   "id": "52d0799f",
   "metadata": {},
   "outputs": [
    {
     "name": "stdout",
     "output_type": "stream",
     "text": [
      "[[255 255 255 ... 255 255 255]\n",
      " [255 255 255 ... 255 255 255]\n",
      " [255 255 255 ... 255 255 255]\n",
      " ...\n",
      " [255 255 255 ... 255 255 255]\n",
      " [255 255 255 ... 255 255 255]\n",
      " [255 255 255 ... 255 255 255]]\n"
     ]
    }
   ],
   "source": [
    "watermark= qrToArray('C:/Users/moham/OneDrive/Desktop/thesis/data/qr/qr_code.png')\n"
   ]
  },
  {
   "cell_type": "code",
   "execution_count": 17,
   "id": "b074567d",
   "metadata": {},
   "outputs": [],
   "source": [
    "import numpy as np\n",
    "from PIL import Image\n",
    "import matplotlib.pyplot as plt\n",
    "from scipy import ndimage, datasets\n",
    "\n",
    "\n",
    "# Wavelet to be used\n",
    "wavelet = 'haar'\n",
    "\n",
    "\n",
    "\n",
    "def embed_watermark(original_data, watermark, alpha):\n",
    "    coefficients = pywt.dwtn(original_data, wavelet, mode='symmetric', axes=None)\n",
    "\n",
    "    # Extract the approximation coefficients from the DWT\n",
    "    #brings out half\n",
    "    approx_coeffs = coefficients['aaa']\n",
    "\n",
    "    watermark_shape= approx_coeffs.shape\n",
    "    # Resize watermark => the approximation coefficients\n",
    "    resized_watermark = reshape_watermark(watermark, watermark_shape)  \n",
    "\n",
    "    scaled_watermark = np.multiply(resized_watermark, alpha)\n",
    "\n",
    "    # Embed the watermark by adding it to the approximation coefficients\n",
    "    watermarked_coeffs = approx_coeffs*scaled_watermark\n",
    "\n",
    "    watermarked_coeffs_dict = dict(coefficients)\n",
    "    watermarked_coeffs_dict['aaa'] = watermarked_coeffs\n",
    "\n",
    "    return watermarked_coeffs_dict\n",
    "\n",
    "# reconstruct data\n",
    "def reconstruct_watermarked_volume(watermarked_coeffs, wavelet):\n",
    "    # Perform inverse 3D DWT to reconstruct the watermarked volume\n",
    "    watermarked_data = pywt.idwtn(watermarked_coeffs, wavelet, mode='symmetric', axes=None)\n",
    "    return watermarked_data"
   ]
  },
  {
   "cell_type": "code",
   "execution_count": 32,
   "id": "fa6e8e07",
   "metadata": {},
   "outputs": [],
   "source": [
    "from scipy.ndimage import zoom \n",
    "\n",
    "#alpha value doit être proche à 255 \n",
    "# parce que wm doit être prsque égale à 1 \n",
    "alpha_value = 1/257\n",
    "watermarked_coeffs = embed_watermark(data, watermark, alpha=alpha_value)\n",
    "\n",
    "watermarked_data_reconstructed = reconstruct_watermarked_volume(watermarked_coeffs, wavelet) \n",
    "\n",
    "watermarked_data_reconstructed= np.maximum(watermarked_data_reconstructed, 0)\n"
   ]
  },
  {
   "cell_type": "code",
   "execution_count": 28,
   "id": "6230d140",
   "metadata": {},
   "outputs": [
    {
     "data": {
      "application/vnd.jupyter.widget-view+json": {
       "model_id": "885264720cfc48a6b33629583416a770",
       "version_major": 2,
       "version_minor": 0
      },
      "text/plain": [
       "Container(children=[VBox(children=(HBox(children=(Label(value='levels:'), FloatSlider(value=0.2, max=1.0, step…"
      ]
     },
     "metadata": {},
     "output_type": "display_data"
    }
   ],
   "source": [
    "import numpy as np\n",
    "import ipyvolume as ipv\n",
    "\n",
    "toplot= data\n",
    "\n",
    "toplot = toplot- np.min(toplot)\n",
    "toplot = toplot/ np.max(toplot)\n",
    "\n",
    "#dataRoi in case it is needed\n",
    "\n",
    "# visualize, replace with func when cleaning\n",
    "ipv.figure()\n",
    "ipv.quickvolshow(toplot, level=[0.2, 0.8], opacity=0.1, level_width= 0.1, data_min=0, data_max=1)\n",
    "ipv.view(-30, 40)\n",
    "ipv.show()"
   ]
  },
  {
   "cell_type": "code",
   "execution_count": 34,
   "id": "c9c6973d",
   "metadata": {},
   "outputs": [
    {
     "data": {
      "application/vnd.jupyter.widget-view+json": {
       "model_id": "a02c86d36ec74a0782d25c9805787235",
       "version_major": 2,
       "version_minor": 0
      },
      "text/plain": [
       "Container(children=[VBox(children=(HBox(children=(Label(value='levels:'), FloatSlider(value=0.2, max=1.0, step…"
      ]
     },
     "metadata": {},
     "output_type": "display_data"
    }
   ],
   "source": [
    "import numpy as np\n",
    "import ipyvolume as ipv\n",
    "\n",
    "toplot= watermarked_data_reconstructed\n",
    "toplot = toplot- np.min(toplot)\n",
    "toplot = toplot/ np.max(toplot)\n",
    "\n",
    "\n",
    "#dataRoi\n",
    "\n",
    "ipv.figure()\n",
    "ipv.quickvolshow(toplot, level=[0.2, 0.8], opacity=0.1, level_width= 0.1, data_min=0, data_max=1)\n",
    "ipv.view(-30, 40)\n",
    "ipv.show()"
   ]
  },
  {
   "cell_type": "code",
   "execution_count": 13,
   "id": "32665c4b",
   "metadata": {},
   "outputs": [
    {
     "data": {
      "text/plain": [
       "array([[[0.00000000e+00, 0.00000000e+00, 0.00000000e+00, ...,\n",
       "         0.00000000e+00, 0.00000000e+00, 0.00000000e+00],\n",
       "        [0.00000000e+00, 0.00000000e+00, 0.00000000e+00, ...,\n",
       "         0.00000000e+00, 0.00000000e+00, 0.00000000e+00],\n",
       "        [0.00000000e+00, 0.00000000e+00, 0.00000000e+00, ...,\n",
       "         0.00000000e+00, 0.00000000e+00, 0.00000000e+00],\n",
       "        ...,\n",
       "        [0.00000000e+00, 0.00000000e+00, 0.00000000e+00, ...,\n",
       "         0.00000000e+00, 0.00000000e+00, 0.00000000e+00],\n",
       "        [0.00000000e+00, 0.00000000e+00, 0.00000000e+00, ...,\n",
       "         0.00000000e+00, 0.00000000e+00, 0.00000000e+00],\n",
       "        [0.00000000e+00, 0.00000000e+00, 0.00000000e+00, ...,\n",
       "         0.00000000e+00, 0.00000000e+00, 0.00000000e+00]],\n",
       "\n",
       "       [[0.00000000e+00, 0.00000000e+00, 0.00000000e+00, ...,\n",
       "         0.00000000e+00, 0.00000000e+00, 0.00000000e+00],\n",
       "        [0.00000000e+00, 0.00000000e+00, 0.00000000e+00, ...,\n",
       "         0.00000000e+00, 0.00000000e+00, 0.00000000e+00],\n",
       "        [0.00000000e+00, 0.00000000e+00, 0.00000000e+00, ...,\n",
       "         0.00000000e+00, 0.00000000e+00, 0.00000000e+00],\n",
       "        ...,\n",
       "        [0.00000000e+00, 0.00000000e+00, 0.00000000e+00, ...,\n",
       "         0.00000000e+00, 0.00000000e+00, 0.00000000e+00],\n",
       "        [0.00000000e+00, 0.00000000e+00, 0.00000000e+00, ...,\n",
       "         0.00000000e+00, 0.00000000e+00, 0.00000000e+00],\n",
       "        [0.00000000e+00, 0.00000000e+00, 0.00000000e+00, ...,\n",
       "         0.00000000e+00, 0.00000000e+00, 0.00000000e+00]],\n",
       "\n",
       "       [[0.00000000e+00, 0.00000000e+00, 0.00000000e+00, ...,\n",
       "         0.00000000e+00, 0.00000000e+00, 0.00000000e+00],\n",
       "        [0.00000000e+00, 0.00000000e+00, 0.00000000e+00, ...,\n",
       "         0.00000000e+00, 0.00000000e+00, 0.00000000e+00],\n",
       "        [0.00000000e+00, 0.00000000e+00, 0.00000000e+00, ...,\n",
       "         0.00000000e+00, 0.00000000e+00, 0.00000000e+00],\n",
       "        ...,\n",
       "        [0.00000000e+00, 0.00000000e+00, 0.00000000e+00, ...,\n",
       "         0.00000000e+00, 0.00000000e+00, 0.00000000e+00],\n",
       "        [0.00000000e+00, 0.00000000e+00, 0.00000000e+00, ...,\n",
       "         0.00000000e+00, 0.00000000e+00, 0.00000000e+00],\n",
       "        [0.00000000e+00, 0.00000000e+00, 0.00000000e+00, ...,\n",
       "         0.00000000e+00, 0.00000000e+00, 0.00000000e+00]],\n",
       "\n",
       "       ...,\n",
       "\n",
       "       [[1.19029767e+02, 7.30297666e+01, 5.80176049e+01, ...,\n",
       "         4.90252550e+01, 1.15019272e+02, 7.50192723e+01],\n",
       "        [4.40297666e+01, 1.47029767e+02, 7.40176049e+01, ...,\n",
       "         1.00025255e+02, 7.50192723e+01, 4.90192723e+01],\n",
       "        [1.60144174e+01, 8.70144174e+01, 1.15025696e+02, ...,\n",
       "         8.00132405e+01, 5.10055904e+01, 5.59042762e-03],\n",
       "        ...,\n",
       "        [2.80108866e+01, 8.30108866e+01, 5.70216752e+01, ...,\n",
       "         2.60162809e+01, 1.10119164e+01, 4.10119164e+01],\n",
       "        [7.20309925e+01, 6.40309925e+01, 5.70170655e+01, ...,\n",
       "         1.04027511e+02, 2.90113770e+01, 1.90113770e+01],\n",
       "        [7.70309925e+01, 7.90309925e+01, 4.70170655e+01, ...,\n",
       "         1.37027511e+02, 5.80113770e+01, 3.70113770e+01]],\n",
       "\n",
       "       [[1.06036583e+02, 2.00365830e+01, 8.30341310e+01, ...,\n",
       "         3.60239310e+01, 3.90278541e+01, 4.80278541e+01],\n",
       "        [1.60036583e+02, 8.70365830e+01, 3.40341310e+01, ...,\n",
       "         1.60239310e+01, 1.33027854e+02, 6.40278541e+01],\n",
       "        [7.90343272e+01, 1.31034327e+02, 7.20213809e+01, ...,\n",
       "         1.37032856e+02, 1.16014319e+02, 5.01431934e+00],\n",
       "        ...,\n",
       "        [6.30298156e+01, 1.56029816e+02, 1.27042271e+02, ...,\n",
       "         5.30170655e+01, 2.90263829e+01, 7.70263829e+01],\n",
       "        [1.32039721e+02, 9.70397215e+01, 2.50141232e+01, ...,\n",
       "         6.30255002e+01, 3.40164770e+01, 3.70164770e+01],\n",
       "        [1.14039721e+02, 6.20397215e+01, 2.90141232e+01, ...,\n",
       "         1.11025500e+02, 7.50164770e+01, 2.20164770e+01]],\n",
       "\n",
       "       [[1.06036583e+02, 2.00365830e+01, 8.30341310e+01, ...,\n",
       "         3.60239310e+01, 3.90278541e+01, 4.80278541e+01],\n",
       "        [1.60036583e+02, 8.70365830e+01, 3.40341310e+01, ...,\n",
       "         1.60239310e+01, 1.33027854e+02, 6.40278541e+01],\n",
       "        [7.90343272e+01, 1.31034327e+02, 7.20213809e+01, ...,\n",
       "         1.37032856e+02, 1.16014319e+02, 5.01431934e+00],\n",
       "        ...,\n",
       "        [6.30298156e+01, 1.56029816e+02, 1.27042271e+02, ...,\n",
       "         5.30170655e+01, 2.90263829e+01, 7.70263829e+01],\n",
       "        [1.32039721e+02, 9.70397215e+01, 2.50141232e+01, ...,\n",
       "         6.30255002e+01, 3.40164770e+01, 3.70164770e+01],\n",
       "        [1.14039721e+02, 6.20397215e+01, 2.90141232e+01, ...,\n",
       "         1.11025500e+02, 7.50164770e+01, 2.20164770e+01]]])"
      ]
     },
     "execution_count": 13,
     "metadata": {},
     "output_type": "execute_result"
    }
   ],
   "source": [
    "watermarked_data_reconstructed"
   ]
  },
  {
   "cell_type": "code",
   "execution_count": 22,
   "id": "d03c5d66",
   "metadata": {},
   "outputs": [
    {
     "data": {
      "text/plain": [
       "0.0"
      ]
     },
     "execution_count": 22,
     "metadata": {},
     "output_type": "execute_result"
    }
   ],
   "source": [
    "toplot= watermarked_data_reconstructed\n",
    "np.min(toplot)\n"
   ]
  },
  {
   "cell_type": "code",
   "execution_count": 21,
   "id": "280454b7",
   "metadata": {},
   "outputs": [
    {
     "data": {
      "image/png": "[encoded data removed]",
      "text/plain": [
       "<Figure size 640x480 with 1 Axes>"
      ]
     },
     "metadata": {},
     "output_type": "display_data"
    }
   ],
   "source": [
    "# plot a histogram of values \n",
    "flattened_data = data.flatten()\n",
    "flattened_data2 = watermarked_data_reconstructed.flatten()\n",
    "\n",
    "\n",
    "# Plot histograms in the same figure\n",
    "plt.hist(flattened_data, bins=50, density=True, alpha=0.5, color='blue', label='Original data')\n",
    "plt.hist(flattened_data2, bins=50, density=True, alpha=0.5, color='orange', label='Watermarked data alpha 20') \n",
    "\n",
    "plt.xlabel('Value')\n",
    "plt.ylabel('Frequency')\n",
    "plt.title('Histogram original vs watermarked data')\n",
    "plt.legend()\n",
    "plt.grid(True)\n",
    "plt.show()\n",
    "\n",
    "\n"
   ]
  },
  {
   "cell_type": "code",
   "execution_count": 19,
   "id": "069f459c",
   "metadata": {},
   "outputs": [
    {
     "data": {
      "text/plain": [
       "(55682, 55315.89275205966)"
      ]
     },
     "execution_count": 19,
     "metadata": {},
     "output_type": "execute_result"
    }
   ],
   "source": [
    "np.max(data), np.max(watermarked_data_reconstructed)\n"
   ]
  },
  {
   "cell_type": "code",
   "execution_count": null,
   "id": "f6953e6f",
   "metadata": {},
   "outputs": [],
   "source": []
  },
  {
   "cell_type": "code",
   "execution_count": null,
   "id": "d84b14c5",
   "metadata": {},
   "outputs": [],
   "source": []
  },
  {
   "cell_type": "code",
   "execution_count": 39,
   "id": "bbc89a15",
   "metadata": {},
   "outputs": [
    {
     "data": {
      "text/plain": [
       "(104, 116, 116)"
      ]
     },
     "execution_count": 39,
     "metadata": {},
     "output_type": "execute_result"
    }
   ],
   "source": [
    "coefficients = pywt.dwtn(data, wavelet, mode='symmetric', axes=None)\n",
    "\n",
    "\n",
    "approx_coeffs = coefficients['aaa']\n",
    "\n",
    "watermark_shape= approx_coeffs.shape\n",
    "watermark_shape"
   ]
  },
  {
   "cell_type": "code",
   "execution_count": 40,
   "id": "c207baae",
   "metadata": {},
   "outputs": [
    {
     "data": {
      "text/plain": [
       "(104, 116, 116)"
      ]
     },
     "execution_count": 40,
     "metadata": {},
     "output_type": "execute_result"
    }
   ],
   "source": [
    "# Resize watermark => the approximation coefficients\n",
    "resized_watermark = reshape_watermark(watermark, watermark_shape)  \n",
    "resized_watermark.shape"
   ]
  },
  {
   "cell_type": "code",
   "execution_count": 24,
   "id": "8aa95bcd",
   "metadata": {},
   "outputs": [
    {
     "data": {
      "image/png": "[encoded data removed]",
      "text/plain": [
       "<Figure size 640x480 with 1 Axes>"
      ]
     },
     "metadata": {},
     "output_type": "display_data"
    }
   ],
   "source": [
    "plt.imshow(resized_watermark[50], cmap='gray')\n",
    "plt.axis('off')\n",
    "plt.show()\n"
   ]
  },
  {
   "cell_type": "code",
   "execution_count": 41,
   "id": "1b228f30",
   "metadata": {},
   "outputs": [
    {
     "data": {
      "text/plain": [
       "(104, 116, 116)"
      ]
     },
     "execution_count": 41,
     "metadata": {},
     "output_type": "execute_result"
    }
   ],
   "source": [
    "watermarked_coeffs['aaa'].shape"
   ]
  },
  {
   "cell_type": "code",
   "execution_count": 34,
   "id": "e8f71439",
   "metadata": {},
   "outputs": [
    {
     "data": {
      "text/plain": [
       "array([[[1.00393701, 1.00393701, 1.00393701, ..., 1.00393701,\n",
       "         1.00393701, 1.00393701],\n",
       "        [1.00393701, 1.00393701, 1.00393701, ..., 1.00393701,\n",
       "         1.00393701, 1.00393701],\n",
       "        [1.00393701, 1.00393701, 1.00393701, ..., 1.00393701,\n",
       "         1.00393701, 1.00393701],\n",
       "        ...,\n",
       "        [1.00393701, 1.00393701, 1.00393701, ..., 1.00393701,\n",
       "         1.00393701, 1.00393701],\n",
       "        [1.00393701, 1.00393701, 1.00393701, ..., 1.00393701,\n",
       "         1.00393701, 1.00393701],\n",
       "        [1.00393701, 1.00393701, 1.00393701, ..., 1.00393701,\n",
       "         1.00393701, 1.00393701]],\n",
       "\n",
       "       [[1.00393701, 1.00393701, 1.00393701, ..., 1.00393701,\n",
       "         1.00393701, 1.00393701],\n",
       "        [1.00393701, 1.00393701, 1.00393701, ..., 1.00393701,\n",
       "         1.00393701, 1.00393701],\n",
       "        [1.00393701, 1.00393701, 1.00393701, ..., 1.00393701,\n",
       "         1.00393701, 1.00393701],\n",
       "        ...,\n",
       "        [1.00393701, 1.00393701, 1.00393701, ..., 1.00393701,\n",
       "         1.00393701, 1.00393701],\n",
       "        [1.00393701, 1.00393701, 1.00393701, ..., 1.00393701,\n",
       "         1.00393701, 1.00393701],\n",
       "        [1.00393701, 1.00393701, 1.00393701, ..., 1.00393701,\n",
       "         1.00393701, 1.00393701]],\n",
       "\n",
       "       [[1.00393701, 1.00393701, 1.00393701, ..., 1.00393701,\n",
       "         1.00393701, 1.00393701],\n",
       "        [1.00393701, 1.00393701, 1.00393701, ..., 1.00393701,\n",
       "         1.00393701, 1.00393701],\n",
       "        [1.00393701, 1.00393701, 1.00393701, ..., 1.00393701,\n",
       "         1.00393701, 1.00393701],\n",
       "        ...,\n",
       "        [1.00393701, 1.00393701, 1.00393701, ..., 1.00393701,\n",
       "         1.00393701, 1.00393701],\n",
       "        [1.00393701, 1.00393701, 1.00393701, ..., 1.00393701,\n",
       "         1.00393701, 1.00393701],\n",
       "        [1.00393701, 1.00393701, 1.00393701, ..., 1.00393701,\n",
       "         1.00393701, 1.00393701]],\n",
       "\n",
       "       ...,\n",
       "\n",
       "       [[1.00393701, 1.00393701, 1.00393701, ..., 1.00393701,\n",
       "         1.00393701, 1.00393701],\n",
       "        [1.00393701, 1.00393701, 1.00393701, ..., 1.00393701,\n",
       "         1.00393701, 1.00393701],\n",
       "        [1.00393701, 1.00393701, 1.00393701, ..., 1.00393701,\n",
       "         1.00393701, 1.00393701],\n",
       "        ...,\n",
       "        [1.00393701, 1.00393701, 1.00393701, ..., 1.00393701,\n",
       "         1.00393701, 1.00393701],\n",
       "        [1.00393701, 1.00393701, 1.00393701, ..., 1.00393701,\n",
       "         1.00393701, 1.00393701],\n",
       "        [1.00393701, 1.00393701, 1.00393701, ..., 1.00393701,\n",
       "         1.00393701, 1.00393701]],\n",
       "\n",
       "       [[1.00393701, 1.00393701, 1.00393701, ..., 1.00393701,\n",
       "         1.00393701, 1.00393701],\n",
       "        [1.00393701, 1.00393701, 1.00393701, ..., 1.00393701,\n",
       "         1.00393701, 1.00393701],\n",
       "        [1.00393701, 1.00393701, 1.00393701, ..., 1.00393701,\n",
       "         1.00393701, 1.00393701],\n",
       "        ...,\n",
       "        [1.00393701, 1.00393701, 1.00393701, ..., 1.00393701,\n",
       "         1.00393701, 1.00393701],\n",
       "        [1.00393701, 1.00393701, 1.00393701, ..., 1.00393701,\n",
       "         1.00393701, 1.00393701],\n",
       "        [1.00393701, 1.00393701, 1.00393701, ..., 1.00393701,\n",
       "         1.00393701, 1.00393701]],\n",
       "\n",
       "       [[1.00393701, 1.00393701, 1.00393701, ..., 1.00393701,\n",
       "         1.00393701, 1.00393701],\n",
       "        [1.00393701, 1.00393701, 1.00393701, ..., 1.00393701,\n",
       "         1.00393701, 1.00393701],\n",
       "        [1.00393701, 1.00393701, 1.00393701, ..., 1.00393701,\n",
       "         1.00393701, 1.00393701],\n",
       "        ...,\n",
       "        [1.00393701, 1.00393701, 1.00393701, ..., 1.00393701,\n",
       "         1.00393701, 1.00393701],\n",
       "        [1.00393701, 1.00393701, 1.00393701, ..., 1.00393701,\n",
       "         1.00393701, 1.00393701],\n",
       "        [1.00393701, 1.00393701, 1.00393701, ..., 1.00393701,\n",
       "         1.00393701, 1.00393701]]])"
      ]
     },
     "execution_count": 34,
     "metadata": {},
     "output_type": "execute_result"
    }
   ],
   "source": [
    "scaled_watermark = np.multiply(resized_watermark, 1/254)\n",
    "scaled_watermark"
   ]
  },
  {
   "cell_type": "code",
   "execution_count": 54,
   "id": "d534171f",
   "metadata": {},
   "outputs": [
    {
     "data": {
      "text/plain": [
       "0.0"
      ]
     },
     "execution_count": 54,
     "metadata": {},
     "output_type": "execute_result"
    }
   ],
   "source": [
    "watermarked_data_reconstructed[10][12][80]"
   ]
  },
  {
   "cell_type": "code",
   "execution_count": 52,
   "id": "bc11d4d0",
   "metadata": {},
   "outputs": [
    {
     "data": {
      "text/plain": [
       "array([[[  0,   0,   0, ...,   0,   0,   0],\n",
       "        [  0,   0,   0, ...,   0,   0,   0],\n",
       "        [  0,   0,   0, ...,   0,   0,   0],\n",
       "        ...,\n",
       "        [  0,   0,   0, ...,   0,   0,   0],\n",
       "        [  0,   0,   0, ...,   0,   0,   0],\n",
       "        [  0,   0,   0, ...,   0,   0,   0]],\n",
       "\n",
       "       [[  0,   0,   0, ...,   0,   0,   0],\n",
       "        [  0,   0,   0, ...,   0,   0,   0],\n",
       "        [  0,   0,   0, ...,   0,   0,   0],\n",
       "        ...,\n",
       "        [  0,   0,   0, ...,   0,   0,   0],\n",
       "        [  0,   0,   0, ...,   0,   0,   0],\n",
       "        [  0,   0,   0, ...,   0,   0,   0]],\n",
       "\n",
       "       [[  0,   0,   0, ...,   0,   0,   0],\n",
       "        [  0,   0,   0, ...,   0,   0,   0],\n",
       "        [  0,   0,   0, ...,   0,   0,   0],\n",
       "        ...,\n",
       "        [  0,   0,   0, ...,   0,   0,   0],\n",
       "        [  0,   0,   0, ...,   0,   0,   0],\n",
       "        [  0,   0,   0, ...,   0,   0,   0]],\n",
       "\n",
       "       ...,\n",
       "\n",
       "       [[ 83,  25,  62, ..., 121,  48,   0],\n",
       "        [ 52,  64,  49, ...,  46,   0,  31],\n",
       "        [ 50,  38,  30, ...,   7,  19,  15],\n",
       "        ...,\n",
       "        [  9,  51,  67, ...,   0,   2,  18],\n",
       "        [ 84,  83,  30, ...,  14,  12,  24],\n",
       "        [127,  46,  39, ...,  46,  48,   5]],\n",
       "\n",
       "       [[119,  73,  58, ...,  49, 115,  75],\n",
       "        [ 44, 147,  74, ..., 100,  75,  49],\n",
       "        [ 16,  87, 115, ...,  80,  51,   0],\n",
       "        ...,\n",
       "        [ 28,  83,  57, ...,  26,  11,  41],\n",
       "        [ 72,  64,  57, ..., 104,  29,  19],\n",
       "        [ 77,  79,  47, ..., 137,  58,  37]],\n",
       "\n",
       "       [[106,  20,  83, ...,  36,  39,  48],\n",
       "        [160,  87,  34, ...,  16, 133,  64],\n",
       "        [ 79, 131,  72, ..., 137, 116,   5],\n",
       "        ...,\n",
       "        [ 63, 156, 127, ...,  53,  29,  77],\n",
       "        [132,  97,  25, ...,  63,  34,  37],\n",
       "        [114,  62,  29, ..., 111,  75,  22]]], dtype=uint16)"
      ]
     },
     "execution_count": 52,
     "metadata": {},
     "output_type": "execute_result"
    }
   ],
   "source": [
    "data"
   ]
  },
  {
   "cell_type": "code",
   "execution_count": null,
   "id": "875b7192",
   "metadata": {},
   "outputs": [],
   "source": []
  }
 ],
 "metadata": {
  "kernelspec": {
   "display_name": "Python 3 (ipykernel)",
   "language": "python",
   "name": "python3"
  },
  "language_info": {
   "codemirror_mode": {
    "name": "ipython",
    "version": 3
   },
   "file_extension": ".py",
   "mimetype": "text/x-python",
   "name": "python",
   "nbconvert_exporter": "python",
   "pygments_lexer": "ipython3",
   "version": "3.11.4"
  },
  "varInspector": {
   "cols": {
    "lenName": 16,
    "lenType": 16,
    "lenVar": 40
   },
   "kernels_config": {
    "python": {
     "delete_cmd_postfix": "",
     "delete_cmd_prefix": "del ",
     "library": "var_list.py",
     "varRefreshCmd": "print(var_dic_list())"
    },
    "r": {
     "delete_cmd_postfix": ") ",
     "delete_cmd_prefix": "rm(",
     "library": "var_list.r",
     "varRefreshCmd": "cat(var_dic_list()) "
    }
   },
   "types_to_exclude": [
    "module",
    "function",
    "builtin_function_or_method",
    "instance",
    "_Feature"
   ],
   "window_display": false
  }
 },
 "nbformat": 4,
 "nbformat_minor": 5
}
