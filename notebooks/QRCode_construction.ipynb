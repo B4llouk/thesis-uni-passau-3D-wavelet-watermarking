{
 "cells": [
  {
   "cell_type": "code",
   "execution_count": 3,
   "id": "cfe5c09f",
   "metadata": {},
   "outputs": [],
   "source": [
    "import qrcode\n",
    "\n",
    "data = \"https://www.3d-watermark-thesis-passau.de\"\n",
    "qr = qrcode.QRCode(\n",
    "    version=1,\n",
    "    error_correction=qrcode.constants.ERROR_CORRECT_L,\n",
    "    box_size=10,\n",
    "    border=4,\n",
    ")\n",
    "qr.add_data(data)\n",
    "qr.make(fit=True)\n",
    "\n",
    "qr_image = qr.make_image(fill_color=\"black\", back_color=\"white\")\n",
    "\n",
    "qr_image.save(\"../data/qr/qr_code.png\") "
   ]
  },
  {
   "cell_type": "code",
   "execution_count": 4,
   "id": "8e1e4dcb",
   "metadata": {},
   "outputs": [
    {
     "data": {
      "text/plain": [
       "(array([[255, 255, 255, ..., 255, 255, 255],\n",
       "        [255, 255, 255, ..., 255, 255, 255],\n",
       "        [255, 255, 255, ..., 255, 255, 255],\n",
       "        ...,\n",
       "        [255, 255, 255, ..., 255, 255, 255],\n",
       "        [255, 255, 255, ..., 255, 255, 255],\n",
       "        [255, 255, 255, ..., 255, 255, 255]], dtype=uint8),\n",
       " (370, 370))"
      ]
     },
     "execution_count": 4,
     "metadata": {},
     "output_type": "execute_result"
    }
   ],
   "source": [
    "from PIL import Image\n",
    "import numpy as np\n",
    "\n",
    "# Open the QR code image\n",
    "qr_image = Image.open(\"../data/qr/qr_code.png\")\n",
    "qr_array = np.array(qr_image)\n",
    "\n",
    "# Convert the image to npy\n",
    "qr_array = qr_array.astype(np.uint8) * 255\n",
    "qr_array, qr_array.shape"
   ]
  },
  {
   "cell_type": "code",
   "execution_count": null,
   "id": "df4c076f",
   "metadata": {},
   "outputs": [],
   "source": []
  },
  {
   "cell_type": "code",
   "execution_count": 5,
   "id": "74fa6c0b",
   "metadata": {},
   "outputs": [
    {
     "data": {
      "image/png": "[encoded data removed]",
      "text/plain": [
       "<Figure size 640x480 with 1 Axes>"
      ]
     },
     "metadata": {},
     "output_type": "display_data"
    }
   ],
   "source": [
    "import matplotlib.pyplot as plt\n",
    "\n",
    "\n",
    "\n",
    "# Plot the NumPy array using Matplotlib\n",
    "plt.imshow(qr_array, cmap='gray')  # cmap='gray' for black and white\n",
    "plt.axis('off')  # Turn off axes\n",
    "plt.show()"
   ]
  },
  {
   "cell_type": "code",
   "execution_count": null,
   "id": "72744174",
   "metadata": {},
   "outputs": [],
   "source": [
    "from scipy.ndimage import zoom\n",
    "\n",
    "# Desired new size (smaller)\n",
    "new_size = (150, 150)  # Change this to the desired smaller size\n",
    "\n",
    "# Resize the QR code array using scipy.ndimage.zoom()\n",
    "resized_qr_array = zoom(qr_array, (new_size[0] / qr_array.shape[0], new_size[1] / qr_array.shape[1]), order=0)\n",
    "\n",
    "\n",
    "\n",
    "\n",
    "\n",
    "\n",
    "\n"
   ]
  },
  {
   "cell_type": "code",
   "execution_count": 2,
   "id": "52fc8d7f",
   "metadata": {},
   "outputs": [
    {
     "ename": "NameError",
     "evalue": "name 'resized_qr_array' is not defined",
     "output_type": "error",
     "traceback": [
      "\u001b[1;31m---------------------------------------------------------------------------\u001b[0m",
      "\u001b[1;31mNameError\u001b[0m                                 Traceback (most recent call last)",
      "Cell \u001b[1;32mIn[2], line 1\u001b[0m\n\u001b[1;32m----> 1\u001b[0m resized_qr_array\n",
      "\u001b[1;31mNameError\u001b[0m: name 'resized_qr_array' is not defined"
     ]
    }
   ],
   "source": [
    "resized_qr_array"
   ]
  },
  {
   "cell_type": "code",
   "execution_count": null,
   "id": "e17dea58",
   "metadata": {},
   "outputs": [],
   "source": []
  },
  {
   "cell_type": "markdown",
   "id": "ebded667",
   "metadata": {},
   "source": [
    "### Rotate QRcode and check if still works "
   ]
  },
  {
   "cell_type": "code",
   "execution_count": 8,
   "id": "801ff130",
   "metadata": {},
   "outputs": [
    {
     "data": {
      "image/png": "[encoded data removed]",
      "text/plain": [
       "<Figure size 640x480 with 2 Axes>"
      ]
     },
     "metadata": {},
     "output_type": "display_data"
    }
   ],
   "source": [
    "from PIL import Image\n",
    "\n",
    "# Rotate the image\n",
    "rotated_qr = np.rot90(qr_array)\n",
    "# Display the original and rotated images\n",
    "plt.subplot(1, 2, 1)\n",
    "plt.imshow(qr_array)\n",
    "plt.title('Original Image')\n",
    "plt.axis('off')\n",
    "\n",
    "plt.subplot(1, 2, 2)\n",
    "plt.imshow(rotated_qr)\n",
    "plt.title(f'Rotated Image by {90} degrees')\n",
    "plt.axis('off')\n",
    "\n",
    "plt.show()\n",
    "\n"
   ]
  },
  {
   "cell_type": "code",
   "execution_count": null,
   "id": "b1aaed36",
   "metadata": {},
   "outputs": [],
   "source": [
    "import numpy as np\n",
    "import matplotlib.pyplot as plt\n",
    "from PIL import Image\n",
    "import scipy.ndimage\n",
    "\n",
    "# Load your QR code image\n",
    "qr_image = Image.open('path_to_your_qr_code_image.jpg')\n",
    "qr_array = np.array(qr_image)\n",
    "\n",
    "# Rotate the image by 130 degrees using scipy.ndimage\n",
    "rotated_qr = scipy.ndimage.rotate(qr_array, 130, reshape=True)\n",
    "\n",
    "# Display the original and rotated images\n",
    "plt.subplot(1, 2, 1)\n",
    "plt.imshow(qr_array, cmap='gray')  # Assuming qr_array is a grayscale image\n",
    "plt.title('Original Image')\n",
    "plt.axis('off')\n",
    "\n",
    "plt.subplot(1, 2, 2)\n",
    "plt.imshow(rotated_qr, cmap='gray')\n",
    "plt.title('Rotated Image by 130 degrees')\n",
    "plt.axis('off')\n",
    "\n",
    "plt.show()"
   ]
  }
 ],
 "metadata": {
  "kernelspec": {
   "display_name": "Python 3 (ipykernel)",
   "language": "python",
   "name": "python3"
  },
  "language_info": {
   "codemirror_mode": {
    "name": "ipython",
    "version": 3
   },
   "file_extension": ".py",
   "mimetype": "text/x-python",
   "name": "python",
   "nbconvert_exporter": "python",
   "pygments_lexer": "ipython3",
   "version": "3.11.4"
  },
  "varInspector": {
   "cols": {
    "lenName": 16,
    "lenType": 16,
    "lenVar": 40
   },
   "kernels_config": {
    "python": {
     "delete_cmd_postfix": "",
     "delete_cmd_prefix": "del ",
     "library": "var_list.py",
     "varRefreshCmd": "print(var_dic_list())"
    },
    "r": {
     "delete_cmd_postfix": ") ",
     "delete_cmd_prefix": "rm(",
     "library": "var_list.r",
     "varRefreshCmd": "cat(var_dic_list()) "
    }
   },
   "types_to_exclude": [
    "module",
    "function",
    "builtin_function_or_method",
    "instance",
    "_Feature"
   ],
   "window_display": false
  }
 },
 "nbformat": 4,
 "nbformat_minor": 5
}
